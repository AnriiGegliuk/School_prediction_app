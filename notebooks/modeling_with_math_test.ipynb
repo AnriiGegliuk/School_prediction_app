{
 "cells": [
  {
   "cell_type": "code",
   "execution_count": 1,
   "id": "66e1a580",
   "metadata": {},
   "outputs": [],
   "source": [
    "import numpy as np\n",
    "import pandas as pd\n",
    "import matplotlib.pyplot as plt\n",
    "import seaborn as sns\n",
    "import sklearn \n",
    "from sklearn.pipeline import Pipeline\n",
    "from sklearn.impute import SimpleImputer\n",
    "from sklearn.preprocessing import StandardScaler\n",
    "from sklearn.preprocessing import MinMaxScaler\n",
    "from sklearn.compose import ColumnTransformer\n",
    "from sklearn.preprocessing import OneHotEncoder\n",
    "from xgboost import XGBClassifier\n",
    "from sklearn.naive_bayes import GaussianNB\n",
    "from sklearn.svm import SVC\n",
    "from sklearn.decomposition import PCA\n",
    "from sklearn.decomposition import KernelPCA\n",
    "from sklearn.inspection import permutation_importance\n",
    "from sklearn.model_selection import GridSearchCV\n",
    "from imblearn.over_sampling import RandomOverSampler\n",
    "from sklearn.ensemble import RandomForestClassifier\n",
    "from sklearn.metrics import precision_recall_curve\n",
    "from sklearn.model_selection import cross_val_predict\n",
    "from sklearn.metrics import precision_score, recall_score, accuracy_score, f1_score, classification_report, confusion_matrix, ConfusionMatrixDisplay, PrecisionRecallDisplay, RocCurveDisplay"
   ]
  },
  {
   "cell_type": "code",
   "execution_count": 2,
   "id": "c16c101e",
   "metadata": {},
   "outputs": [],
   "source": [
    "data = pd.read_csv(\"../raw_data/file_with_mathtest_features.csv\",low_memory=False)"
   ]
  },
  {
   "cell_type": "markdown",
   "id": "3baefb1b",
   "metadata": {},
   "source": [
    "## Variables"
   ]
  },
  {
   "cell_type": "code",
   "execution_count": null,
   "id": "e40dea49",
   "metadata": {
    "scrolled": true
   },
   "outputs": [],
   "source": [
    "data.columns"
   ]
  },
  {
   "cell_type": "code",
   "execution_count": 3,
   "id": "7768547a",
   "metadata": {},
   "outputs": [],
   "source": [
    "data = data.drop(columns=[\"Gender\",\"darija\",\"class_arabic\",\"french\",\"amazygh\",\n",
    "                    \"read_one_lang\",\"write_one_lang\",\"type_housing\",\"satellite\",\"school_id\",\n",
    "                   \"child_enrollment\",\"class_when_dropout\",\"schoolunitid\",\"type_unit\",\"groupid\",\"num_menage\",\n",
    "                   \"done_test\"])"
   ]
  },
  {
   "cell_type": "markdown",
   "id": "0b884cbd",
   "metadata": {},
   "source": [
    "### Features cleaning (Math Test)"
   ]
  },
  {
   "cell_type": "code",
   "execution_count": 4,
   "id": "01aea1ce",
   "metadata": {},
   "outputs": [],
   "source": [
    "# Digit Recognition\n",
    "data['digit_recognition_res'] = pd.to_numeric(data['digit_recognition_res'], errors='coerce')\n",
    "data = data.dropna(subset=['digit_recognition_res'])"
   ]
  },
  {
   "cell_type": "code",
   "execution_count": 5,
   "id": "82084ca3",
   "metadata": {},
   "outputs": [],
   "source": [
    "# Numbers Recognition\n",
    "data['number_recognition_res'] = pd.to_numeric(data['number_recognition_res'], errors='coerce')\n",
    "data = data.dropna(subset=['number_recognition_res'])"
   ]
  },
  {
   "cell_type": "code",
   "execution_count": 6,
   "id": "54ace7b3",
   "metadata": {},
   "outputs": [],
   "source": [
    "# Substraction\n",
    "data['subtraction_res'] = pd.to_numeric(data['subtraction_res'], errors='coerce')\n",
    "data = data.dropna(subset=['subtraction_res'])"
   ]
  },
  {
   "cell_type": "code",
   "execution_count": 7,
   "id": "574adc38",
   "metadata": {},
   "outputs": [],
   "source": [
    "# Division\n",
    "data['division_res'] = pd.to_numeric(data['division_res'], errors='coerce')\n",
    "data = data.dropna(subset=['division_res'])"
   ]
  },
  {
   "cell_type": "code",
   "execution_count": 8,
   "id": "dea9c4ac",
   "metadata": {},
   "outputs": [
    {
     "data": {
      "text/plain": [
       "<AxesSubplot:xlabel='division_res', ylabel='Count'>"
      ]
     },
     "execution_count": 8,
     "metadata": {},
     "output_type": "execute_result"
    },
    {
     "data": {
      "image/png": "[encoded data removed]",
      "text/plain": [
       "<Figure size 640x480 with 1 Axes>"
      ]
     },
     "metadata": {},
     "output_type": "display_data"
    }
   ],
   "source": [
    "sns.histplot(data['division_res'])"
   ]
  },
  {
   "cell_type": "markdown",
   "id": "3c08f1f7",
   "metadata": {},
   "source": [
    "### Define X, y "
   ]
  },
  {
   "cell_type": "code",
   "execution_count": 15,
   "id": "85b445d2",
   "metadata": {},
   "outputs": [],
   "source": [
    "X = data.drop(\"Age abandoned school\", axis=1)\n",
    "y = data[\"Age abandoned school\"]"
   ]
  },
  {
   "cell_type": "code",
   "execution_count": 16,
   "id": "b90c5564",
   "metadata": {},
   "outputs": [
    {
     "data": {
      "text/plain": [
       "1.0    2247\n",
       "0.0     722\n",
       "Name: Age abandoned school, dtype: int64"
      ]
     },
     "execution_count": 16,
     "metadata": {},
     "output_type": "execute_result"
    }
   ],
   "source": [
    "y.value_counts()"
   ]
  },
  {
   "cell_type": "code",
   "execution_count": 17,
   "id": "5436621c",
   "metadata": {},
   "outputs": [],
   "source": [
    "target = {0:1,\n",
    "         1:0}"
   ]
  },
  {
   "cell_type": "code",
   "execution_count": 18,
   "id": "5915a59f",
   "metadata": {},
   "outputs": [],
   "source": [
    "y = y.map(target)"
   ]
  },
  {
   "cell_type": "code",
   "execution_count": 19,
   "id": "41042191",
   "metadata": {},
   "outputs": [
    {
     "data": {
      "text/plain": [
       "0    2247\n",
       "1     722\n",
       "Name: Age abandoned school, dtype: int64"
      ]
     },
     "execution_count": 19,
     "metadata": {},
     "output_type": "execute_result"
    }
   ],
   "source": [
    "y.value_counts()"
   ]
  },
  {
   "cell_type": "code",
   "execution_count": 20,
   "id": "26afcf22",
   "metadata": {},
   "outputs": [
    {
     "data": {
      "text/plain": [
       "Index(['hhid', 'mother_alive', 'father_alive', 'parents_age', 'marital_status',\n",
       "       'parents_level_ed', 'num_per_house', 'mobile_phones',\n",
       "       'individual_water_net', 'work_activity_classified', 'average_score'],\n",
       "      dtype='object')"
      ]
     },
     "execution_count": 20,
     "metadata": {},
     "output_type": "execute_result"
    }
   ],
   "source": [
    "X.columns"
   ]
  },
  {
   "cell_type": "markdown",
   "id": "27d9c028",
   "metadata": {},
   "source": [
    "### Remove features columns"
   ]
  },
  {
   "cell_type": "code",
   "execution_count": 9,
   "id": "4f613b53",
   "metadata": {},
   "outputs": [],
   "source": [
    "data = data.drop(columns=[\"automobiles\",\"region\",\"province\",\"electrical_net_co\",\"no_water\",\n",
    "                    \"no_read_write\"])"
   ]
  },
  {
   "cell_type": "code",
   "execution_count": 10,
   "id": "9e6d0a07",
   "metadata": {},
   "outputs": [
    {
     "data": {
      "text/plain": [
       "(2969, 15)"
      ]
     },
     "execution_count": 10,
     "metadata": {},
     "output_type": "execute_result"
    }
   ],
   "source": [
    "data.shape"
   ]
  },
  {
   "cell_type": "markdown",
   "id": "4b23a655",
   "metadata": {},
   "source": [
    "### Math test score - average"
   ]
  },
  {
   "cell_type": "code",
   "execution_count": 11,
   "id": "86846631",
   "metadata": {},
   "outputs": [],
   "source": [
    "data['average_score'] = (data['digit_recognition_res'] + data['number_recognition_res'] + data['subtraction_res'] + data['division_res']) / 4\n"
   ]
  },
  {
   "cell_type": "code",
   "execution_count": 13,
   "id": "4548bb7e",
   "metadata": {},
   "outputs": [],
   "source": [
    "data = data.drop(columns=['number_recognition_res', 'subtraction_res', 'division_res',\n",
    "       'digit_recognition_res'])"
   ]
  },
  {
   "cell_type": "code",
   "execution_count": 14,
   "id": "45c7c2ea",
   "metadata": {
    "scrolled": true
   },
   "outputs": [
    {
     "data": {
      "text/html": [
       "<div>\n",
       "<style scoped>\n",
       "    .dataframe tbody tr th:only-of-type {\n",
       "        vertical-align: middle;\n",
       "    }\n",
       "\n",
       "    .dataframe tbody tr th {\n",
       "        vertical-align: top;\n",
       "    }\n",
       "\n",
       "    .dataframe thead th {\n",
       "        text-align: right;\n",
       "    }\n",
       "</style>\n",
       "<table border=\"1\" class=\"dataframe\">\n",
       "  <thead>\n",
       "    <tr style=\"text-align: right;\">\n",
       "      <th></th>\n",
       "      <th>hhid</th>\n",
       "      <th>mother_alive</th>\n",
       "      <th>father_alive</th>\n",
       "      <th>parents_age</th>\n",
       "      <th>marital_status</th>\n",
       "      <th>parents_level_ed</th>\n",
       "      <th>num_per_house</th>\n",
       "      <th>mobile_phones</th>\n",
       "      <th>individual_water_net</th>\n",
       "      <th>Age abandoned school</th>\n",
       "      <th>work_activity_classified</th>\n",
       "      <th>average_score</th>\n",
       "    </tr>\n",
       "  </thead>\n",
       "  <tbody>\n",
       "    <tr>\n",
       "      <th>0</th>\n",
       "      <td>A208004</td>\n",
       "      <td>1.0</td>\n",
       "      <td>1.0</td>\n",
       "      <td>35.0</td>\n",
       "      <td>1.0</td>\n",
       "      <td>1.0</td>\n",
       "      <td>5.0</td>\n",
       "      <td>1.0</td>\n",
       "      <td>2</td>\n",
       "      <td>1.0</td>\n",
       "      <td>1.0</td>\n",
       "      <td>1.75</td>\n",
       "    </tr>\n",
       "    <tr>\n",
       "      <th>2</th>\n",
       "      <td>A268006</td>\n",
       "      <td>1.0</td>\n",
       "      <td>1.0</td>\n",
       "      <td>31.0</td>\n",
       "      <td>1.0</td>\n",
       "      <td>3.0</td>\n",
       "      <td>7.0</td>\n",
       "      <td>1.0</td>\n",
       "      <td>2</td>\n",
       "      <td>1.0</td>\n",
       "      <td>0.0</td>\n",
       "      <td>1.50</td>\n",
       "    </tr>\n",
       "    <tr>\n",
       "      <th>4</th>\n",
       "      <td>A536006</td>\n",
       "      <td>2.0</td>\n",
       "      <td>1.0</td>\n",
       "      <td>36.0</td>\n",
       "      <td>1.0</td>\n",
       "      <td>2.0</td>\n",
       "      <td>4.0</td>\n",
       "      <td>1.0</td>\n",
       "      <td>2</td>\n",
       "      <td>1.0</td>\n",
       "      <td>1.0</td>\n",
       "      <td>1.25</td>\n",
       "    </tr>\n",
       "    <tr>\n",
       "      <th>6</th>\n",
       "      <td>A266008</td>\n",
       "      <td>1.0</td>\n",
       "      <td>1.0</td>\n",
       "      <td>43.0</td>\n",
       "      <td>1.0</td>\n",
       "      <td>3.0</td>\n",
       "      <td>7.0</td>\n",
       "      <td>2.0</td>\n",
       "      <td>2</td>\n",
       "      <td>1.0</td>\n",
       "      <td>0.0</td>\n",
       "      <td>1.00</td>\n",
       "    </tr>\n",
       "    <tr>\n",
       "      <th>7</th>\n",
       "      <td>A372007</td>\n",
       "      <td>1.0</td>\n",
       "      <td>1.0</td>\n",
       "      <td>33.0</td>\n",
       "      <td>1.0</td>\n",
       "      <td>3.0</td>\n",
       "      <td>4.0</td>\n",
       "      <td>1.0</td>\n",
       "      <td>2</td>\n",
       "      <td>0.0</td>\n",
       "      <td>0.0</td>\n",
       "      <td>1.25</td>\n",
       "    </tr>\n",
       "  </tbody>\n",
       "</table>\n",
       "</div>"
      ],
      "text/plain": [
       "      hhid  mother_alive  father_alive  parents_age  marital_status  \\\n",
       "0  A208004           1.0           1.0         35.0             1.0   \n",
       "2  A268006           1.0           1.0         31.0             1.0   \n",
       "4  A536006           2.0           1.0         36.0             1.0   \n",
       "6  A266008           1.0           1.0         43.0             1.0   \n",
       "7  A372007           1.0           1.0         33.0             1.0   \n",
       "\n",
       "   parents_level_ed  num_per_house  mobile_phones  individual_water_net  \\\n",
       "0               1.0            5.0            1.0                     2   \n",
       "2               3.0            7.0            1.0                     2   \n",
       "4               2.0            4.0            1.0                     2   \n",
       "6               3.0            7.0            2.0                     2   \n",
       "7               3.0            4.0            1.0                     2   \n",
       "\n",
       "   Age abandoned school  work_activity_classified  average_score  \n",
       "0                   1.0                       1.0           1.75  \n",
       "2                   1.0                       0.0           1.50  \n",
       "4                   1.0                       1.0           1.25  \n",
       "6                   1.0                       0.0           1.00  \n",
       "7                   0.0                       0.0           1.25  "
      ]
     },
     "execution_count": 14,
     "metadata": {},
     "output_type": "execute_result"
    }
   ],
   "source": [
    "data.head()"
   ]
  },
  {
   "cell_type": "code",
   "execution_count": 32,
   "id": "26302131",
   "metadata": {},
   "outputs": [
    {
     "data": {
      "text/plain": [
       "hhid                        0\n",
       "mother_alive                0\n",
       "father_alive                0\n",
       "parents_age                 0\n",
       "marital_status              0\n",
       "parents_level_ed            0\n",
       "num_per_house               0\n",
       "mobile_phones               0\n",
       "individual_water_net        0\n",
       "Age abandoned school        0\n",
       "work_activity_classified    0\n",
       "average_score               0\n",
       "dtype: int64"
      ]
     },
     "execution_count": 32,
     "metadata": {},
     "output_type": "execute_result"
    }
   ],
   "source": [
    "data.isna().sum()"
   ]
  },
  {
   "cell_type": "markdown",
   "id": "9eb46692",
   "metadata": {},
   "source": [
    "## Preprocessor"
   ]
  },
  {
   "cell_type": "code",
   "execution_count": 21,
   "id": "ff6b5091",
   "metadata": {},
   "outputs": [],
   "source": [
    "from sklearn.model_selection import train_test_split\n",
    "\n",
    "X_train, X_test, y_train, y_test = train_test_split(X, y, test_size = 0.20)\n",
    "X_train.shape, X_test.shape, y_train.shape, y_test.shape\n",
    "\n",
    "X_train.set_index('hhid', inplace=True)\n",
    "X_test.set_index('hhid', inplace=True)\n",
    "\n",
    "oversample = RandomOverSampler()\n",
    "X_train, y_train = oversample.fit_resample(X_train, y_train)\n",
    "\n",
    "X_train_num = X_train.select_dtypes(include=[\"float64\",\"int64\"])\n",
    "X_test_num = X_test.select_dtypes(include=[\"float64\",\"int64\"])\n",
    "\n",
    "pipeline = Pipeline([\n",
    "    ('imputer', SimpleImputer(strategy=\"mean\")),\n",
    "    ('mm_scaler', MinMaxScaler())]).set_output(transform=\"pandas\")\n",
    "\n",
    "pipeline.fit(X_train_num)\n",
    "X_train_transformed = pipeline.transform(X_train_num)\n",
    "X_test_transformed = pipeline.transform(X_test_num)"
   ]
  },
  {
   "cell_type": "markdown",
   "id": "d7cd15e0",
   "metadata": {},
   "source": [
    "## PCA & Features Transformation"
   ]
  },
  {
   "cell_type": "markdown",
   "id": "1a8704d2",
   "metadata": {},
   "source": [
    "### PCA"
   ]
  },
  {
   "cell_type": "code",
   "execution_count": 23,
   "id": "829e1e2e",
   "metadata": {},
   "outputs": [
    {
     "name": "stdout",
     "output_type": "stream",
     "text": [
      "[0.28830066 0.21704392 0.15686478 0.1323467  0.10258469 0.04843406\n",
      " 0.01838175 0.01512261 0.01337567 0.00754518]\n",
      "[33.56767008 29.1254194  24.76059656 22.74337606 20.02348416 13.75858582\n",
      "  8.4760157   7.68797114  7.23029768  5.43041713]\n"
     ]
    }
   ],
   "source": [
    "pca = PCA()\n",
    "pca.fit(X_train_transformed)\n",
    "\n",
    "# Metrics\n",
    "print(pca.explained_variance_ratio_)\n",
    "print(pca.singular_values_)\n",
    "\n",
    "# Dimensionality reduction (Train)\n",
    "X_proj_train = pca.transform(X_train_transformed)\n",
    "X_proj_train = pd.DataFrame(X_proj_train, columns=[f'PC{i}' for i in range(1, X_train_transformed.shape[1]+1)])"
   ]
  },
  {
   "cell_type": "code",
   "execution_count": 24,
   "id": "6cd60caf",
   "metadata": {},
   "outputs": [],
   "source": [
    "# Dimensionality reduction (Test)\n",
    "X_proj_test = pca.transform(X_test_transformed)\n",
    "X_proj_test = pd.DataFrame(X_proj_test, columns=[f'PC{i}' for i in range(1, X_test_transformed.shape[1]+1)])"
   ]
  },
  {
   "cell_type": "markdown",
   "id": "de120ee1",
   "metadata": {},
   "source": [
    "## Grid Search"
   ]
  },
  {
   "cell_type": "markdown",
   "id": "8e01b271",
   "metadata": {},
   "source": [
    "### Random Forest"
   ]
  },
  {
   "cell_type": "code",
   "execution_count": null,
   "id": "77db1c01",
   "metadata": {},
   "outputs": [],
   "source": [
    "rf = RandomForestClassifier()\n",
    "\n",
    "param_grid = {\n",
    "    'n_estimators': [100, 200, 300],  \n",
    "    'max_depth': [None, 5, 10],  \n",
    "    'min_samples_split': [2, 5, 10],  \n",
    "    'min_samples_leaf': [1, 2, 4]  \n",
    "}\n",
    "\n",
    "\n",
    "search = GridSearchCV(\n",
    "    rf,\n",
    "    param_grid, \n",
    "    scoring = 'f1',\n",
    "    cv = 5,\n",
    "    n_jobs=-1\n",
    ") \n",
    "\n",
    "\n",
    "search.fit(X_proj_train, y_train);\n",
    "\n",
    "# Best score\n",
    "print(search.best_score_)\n",
    "\n",
    "# Best Params\n",
    "print(search.best_params_) "
   ]
  },
  {
   "cell_type": "markdown",
   "id": "559cfcb9",
   "metadata": {},
   "source": [
    "### Naive Bayse"
   ]
  },
  {
   "cell_type": "code",
   "execution_count": null,
   "id": "2a934d27",
   "metadata": {},
   "outputs": [],
   "source": [
    "nb = GaussianNB()\n",
    "\n",
    "param_grid = {\n",
    "    'var_smoothing': [1e-9, 1e-8, 1e-7]  \n",
    "}\n",
    "\n",
    "search = GridSearchCV(nb, param_grid, cv=5, scoring='f1', n_jobs=-1)\n",
    "\n",
    "search.fit(X_proj_train, y_train)\n",
    "\n",
    "# Best score\n",
    "print(search.best_score_)\n",
    "\n",
    "# Best Params\n",
    "print(search.best_params_) "
   ]
  },
  {
   "cell_type": "markdown",
   "id": "fb974f82",
   "metadata": {},
   "source": [
    "### SVC "
   ]
  },
  {
   "cell_type": "code",
   "execution_count": null,
   "id": "e9421cfc",
   "metadata": {},
   "outputs": [],
   "source": [
    "svc = SVC() \n",
    "\n",
    "param_grid = {\n",
    "    'C': [0.1, 1, 10],  \n",
    "    'kernel': ['linear', 'rbf'],  \n",
    "    'gamma': ['scale', 'auto']  \n",
    "}\n",
    "\n",
    "search = GridSearchCV(svc, param_grid, cv=5, scoring='f1', n_jobs=-1)\n",
    "\n",
    "# Fit the Grid Search to your training data\n",
    "search.fit(X_proj_train, y_train)\n",
    "\n",
    "# Get the best parameters and best score from the Grid Search\n",
    "print(search.best_params_)\n",
    "print(search.best_score_)\n"
   ]
  },
  {
   "cell_type": "markdown",
   "id": "15bb9d38",
   "metadata": {},
   "source": [
    "## Final Pipeline"
   ]
  },
  {
   "cell_type": "code",
   "execution_count": 28,
   "id": "2872ae7e",
   "metadata": {},
   "outputs": [
    {
     "data": {
      "text/html": [
       "<style>#sk-container-id-2 {color: black;background-color: white;}#sk-container-id-2 pre{padding: 0;}#sk-container-id-2 div.sk-toggleable {background-color: white;}#sk-container-id-2 label.sk-toggleable__label {cursor: pointer;display: block;width: 100%;margin-bottom: 0;padding: 0.3em;box-sizing: border-box;text-align: center;}#sk-container-id-2 label.sk-toggleable__label-arrow:before {content: \"▸\";float: left;margin-right: 0.25em;color: #696969;}#sk-container-id-2 label.sk-toggleable__label-arrow:hover:before {color: black;}#sk-container-id-2 div.sk-estimator:hover label.sk-toggleable__label-arrow:before {color: black;}#sk-container-id-2 div.sk-toggleable__content {max-height: 0;max-width: 0;overflow: hidden;text-align: left;background-color: #f0f8ff;}#sk-container-id-2 div.sk-toggleable__content pre {margin: 0.2em;color: black;border-radius: 0.25em;background-color: #f0f8ff;}#sk-container-id-2 input.sk-toggleable__control:checked~div.sk-toggleable__content {max-height: 200px;max-width: 100%;overflow: auto;}#sk-container-id-2 input.sk-toggleable__control:checked~label.sk-toggleable__label-arrow:before {content: \"▾\";}#sk-container-id-2 div.sk-estimator input.sk-toggleable__control:checked~label.sk-toggleable__label {background-color: #d4ebff;}#sk-container-id-2 div.sk-label input.sk-toggleable__control:checked~label.sk-toggleable__label {background-color: #d4ebff;}#sk-container-id-2 input.sk-hidden--visually {border: 0;clip: rect(1px 1px 1px 1px);clip: rect(1px, 1px, 1px, 1px);height: 1px;margin: -1px;overflow: hidden;padding: 0;position: absolute;width: 1px;}#sk-container-id-2 div.sk-estimator {font-family: monospace;background-color: #f0f8ff;border: 1px dotted black;border-radius: 0.25em;box-sizing: border-box;margin-bottom: 0.5em;}#sk-container-id-2 div.sk-estimator:hover {background-color: #d4ebff;}#sk-container-id-2 div.sk-parallel-item::after {content: \"\";width: 100%;border-bottom: 1px solid gray;flex-grow: 1;}#sk-container-id-2 div.sk-label:hover label.sk-toggleable__label {background-color: #d4ebff;}#sk-container-id-2 div.sk-serial::before {content: \"\";position: absolute;border-left: 1px solid gray;box-sizing: border-box;top: 0;bottom: 0;left: 50%;z-index: 0;}#sk-container-id-2 div.sk-serial {display: flex;flex-direction: column;align-items: center;background-color: white;padding-right: 0.2em;padding-left: 0.2em;position: relative;}#sk-container-id-2 div.sk-item {position: relative;z-index: 1;}#sk-container-id-2 div.sk-parallel {display: flex;align-items: stretch;justify-content: center;background-color: white;position: relative;}#sk-container-id-2 div.sk-item::before, #sk-container-id-2 div.sk-parallel-item::before {content: \"\";position: absolute;border-left: 1px solid gray;box-sizing: border-box;top: 0;bottom: 0;left: 50%;z-index: -1;}#sk-container-id-2 div.sk-parallel-item {display: flex;flex-direction: column;z-index: 1;position: relative;background-color: white;}#sk-container-id-2 div.sk-parallel-item:first-child::after {align-self: flex-end;width: 50%;}#sk-container-id-2 div.sk-parallel-item:last-child::after {align-self: flex-start;width: 50%;}#sk-container-id-2 div.sk-parallel-item:only-child::after {width: 0;}#sk-container-id-2 div.sk-dashed-wrapped {border: 1px dashed gray;margin: 0 0.4em 0.5em 0.4em;box-sizing: border-box;padding-bottom: 0.4em;background-color: white;}#sk-container-id-2 div.sk-label label {font-family: monospace;font-weight: bold;display: inline-block;line-height: 1.2em;}#sk-container-id-2 div.sk-label-container {text-align: center;}#sk-container-id-2 div.sk-container {/* jupyter's `normalize.less` sets `[hidden] { display: none; }` but bootstrap.min.css set `[hidden] { display: none !important; }` so we also need the `!important` here to be able to override the default hidden behavior on the sphinx rendered scikit-learn.org. See: https://github.com/scikit-learn/scikit-learn/issues/21755 */display: inline-block !important;position: relative;}#sk-container-id-2 div.sk-text-repr-fallback {display: none;}</style><div id=\"sk-container-id-2\" class=\"sk-top-container\"><div class=\"sk-text-repr-fallback\"><pre>Pipeline(steps=[(&#x27;imputer&#x27;, SimpleImputer()), (&#x27;mm_scaler&#x27;, MinMaxScaler()),\n",
       "                (&#x27;pca&#x27;, PCA()),\n",
       "                (&#x27;grid_search&#x27;,\n",
       "                 GridSearchCV(cv=5, estimator=GaussianNB(), n_jobs=-1,\n",
       "                              param_grid={&#x27;var_smoothing&#x27;: [1e-09, 1e-08,\n",
       "                                                            1e-07]},\n",
       "                              scoring=&#x27;f1&#x27;))])</pre><b>In a Jupyter environment, please rerun this cell to show the HTML representation or trust the notebook. <br />On GitHub, the HTML representation is unable to render, please try loading this page with nbviewer.org.</b></div><div class=\"sk-container\" hidden><div class=\"sk-item sk-dashed-wrapped\"><div class=\"sk-label-container\"><div class=\"sk-label sk-toggleable\"><input class=\"sk-toggleable__control sk-hidden--visually\" id=\"sk-estimator-id-4\" type=\"checkbox\" ><label for=\"sk-estimator-id-4\" class=\"sk-toggleable__label sk-toggleable__label-arrow\">Pipeline</label><div class=\"sk-toggleable__content\"><pre>Pipeline(steps=[(&#x27;imputer&#x27;, SimpleImputer()), (&#x27;mm_scaler&#x27;, MinMaxScaler()),\n",
       "                (&#x27;pca&#x27;, PCA()),\n",
       "                (&#x27;grid_search&#x27;,\n",
       "                 GridSearchCV(cv=5, estimator=GaussianNB(), n_jobs=-1,\n",
       "                              param_grid={&#x27;var_smoothing&#x27;: [1e-09, 1e-08,\n",
       "                                                            1e-07]},\n",
       "                              scoring=&#x27;f1&#x27;))])</pre></div></div></div><div class=\"sk-serial\"><div class=\"sk-item\"><div class=\"sk-estimator sk-toggleable\"><input class=\"sk-toggleable__control sk-hidden--visually\" id=\"sk-estimator-id-5\" type=\"checkbox\" ><label for=\"sk-estimator-id-5\" class=\"sk-toggleable__label sk-toggleable__label-arrow\">SimpleImputer</label><div class=\"sk-toggleable__content\"><pre>SimpleImputer()</pre></div></div></div><div class=\"sk-item\"><div class=\"sk-estimator sk-toggleable\"><input class=\"sk-toggleable__control sk-hidden--visually\" id=\"sk-estimator-id-6\" type=\"checkbox\" ><label for=\"sk-estimator-id-6\" class=\"sk-toggleable__label sk-toggleable__label-arrow\">MinMaxScaler</label><div class=\"sk-toggleable__content\"><pre>MinMaxScaler()</pre></div></div></div><div class=\"sk-item\"><div class=\"sk-estimator sk-toggleable\"><input class=\"sk-toggleable__control sk-hidden--visually\" id=\"sk-estimator-id-7\" type=\"checkbox\" ><label for=\"sk-estimator-id-7\" class=\"sk-toggleable__label sk-toggleable__label-arrow\">PCA</label><div class=\"sk-toggleable__content\"><pre>PCA()</pre></div></div></div><div class=\"sk-item sk-dashed-wrapped\"><div class=\"sk-label-container\"><div class=\"sk-label sk-toggleable\"><input class=\"sk-toggleable__control sk-hidden--visually\" id=\"sk-estimator-id-8\" type=\"checkbox\" ><label for=\"sk-estimator-id-8\" class=\"sk-toggleable__label sk-toggleable__label-arrow\">grid_search: GridSearchCV</label><div class=\"sk-toggleable__content\"><pre>GridSearchCV(cv=5, estimator=GaussianNB(), n_jobs=-1,\n",
       "             param_grid={&#x27;var_smoothing&#x27;: [1e-09, 1e-08, 1e-07]}, scoring=&#x27;f1&#x27;)</pre></div></div></div><div class=\"sk-parallel\"><div class=\"sk-parallel-item\"><div class=\"sk-item\"><div class=\"sk-label-container\"><div class=\"sk-label sk-toggleable\"><input class=\"sk-toggleable__control sk-hidden--visually\" id=\"sk-estimator-id-9\" type=\"checkbox\" ><label for=\"sk-estimator-id-9\" class=\"sk-toggleable__label sk-toggleable__label-arrow\">estimator: GaussianNB</label><div class=\"sk-toggleable__content\"><pre>GaussianNB()</pre></div></div></div><div class=\"sk-serial\"><div class=\"sk-item\"><div class=\"sk-estimator sk-toggleable\"><input class=\"sk-toggleable__control sk-hidden--visually\" id=\"sk-estimator-id-10\" type=\"checkbox\" ><label for=\"sk-estimator-id-10\" class=\"sk-toggleable__label sk-toggleable__label-arrow\">GaussianNB</label><div class=\"sk-toggleable__content\"><pre>GaussianNB()</pre></div></div></div></div></div></div></div></div></div></div></div></div>"
      ],
      "text/plain": [
       "Pipeline(steps=[('imputer', SimpleImputer()), ('mm_scaler', MinMaxScaler()),\n",
       "                ('pca', PCA()),\n",
       "                ('grid_search',\n",
       "                 GridSearchCV(cv=5, estimator=GaussianNB(), n_jobs=-1,\n",
       "                              param_grid={'var_smoothing': [1e-09, 1e-08,\n",
       "                                                            1e-07]},\n",
       "                              scoring='f1'))])"
      ]
     },
     "execution_count": 28,
     "metadata": {},
     "output_type": "execute_result"
    }
   ],
   "source": [
    "param_grid = {\n",
    "    'var_smoothing': [1e-9, 1e-8, 1e-7]  \n",
    "}\n",
    "\n",
    "pipeline = Pipeline([\n",
    "    ('imputer', SimpleImputer(strategy=\"mean\")),\n",
    "    ('mm_scaler', MinMaxScaler()),\n",
    "    ('pca', PCA()),\n",
    "    ('grid_search', GridSearchCV(GaussianNB(), param_grid, cv=5, scoring='f1',n_jobs=-1))\n",
    "]).set_output(transform=\"pandas\")\n",
    "\n",
    "pipeline"
   ]
  },
  {
   "cell_type": "markdown",
   "id": "72cf7959",
   "metadata": {},
   "source": [
    "## Modeling (manual)"
   ]
  },
  {
   "cell_type": "code",
   "execution_count": 29,
   "id": "5a4364a6",
   "metadata": {},
   "outputs": [],
   "source": [
    "def perform(y_true, y_pred):\n",
    "    print(\"Precision : \", precision_score(y_true, y_pred))\n",
    "    print(\"Recall : \", recall_score(y_true, y_pred))\n",
    "    print(\"Accuracy : \", accuracy_score(y_true, y_pred))\n",
    "    print(\"F1 Score : \", f1_score(y_true, y_pred))\n",
    "    cm = confusion_matrix(y_true, y_pred)\n",
    "    print(\"\\n\", cm)\n",
    "    print(\"\\n\")\n",
    "    print(\"**\"*27 + \"\\n\" + \" \"* 16 + \"Classification Report\\n\" + \"**\"*27)\n",
    "    print(classification_report(y_true, y_pred))\n",
    "    print(\"**\"*27+\"\\n\")\n",
    "    \n",
    "    cm = ConfusionMatrixDisplay(confusion_matrix = cm)\n",
    "    cm.plot()"
   ]
  },
  {
   "cell_type": "markdown",
   "id": "737e508d",
   "metadata": {},
   "source": [
    "### Naive Bayse"
   ]
  },
  {
   "cell_type": "code",
   "execution_count": 42,
   "id": "46d654b2",
   "metadata": {},
   "outputs": [
    {
     "name": "stdout",
     "output_type": "stream",
     "text": [
      "Precision :  0.32409972299168976\n",
      "Recall :  0.7177914110429447\n",
      "Accuracy :  0.5117845117845118\n",
      "F1 Score :  0.4465648854961832\n",
      "\n",
      " [[187 244]\n",
      " [ 46 117]]\n",
      "\n",
      "\n",
      "******************************************************\n",
      "                Classification Report\n",
      "******************************************************\n",
      "              precision    recall  f1-score   support\n",
      "\n",
      "           0       0.80      0.43      0.56       431\n",
      "           1       0.32      0.72      0.45       163\n",
      "\n",
      "    accuracy                           0.51       594\n",
      "   macro avg       0.56      0.58      0.50       594\n",
      "weighted avg       0.67      0.51      0.53       594\n",
      "\n",
      "******************************************************\n",
      "\n"
     ]
    },
    {
     "data": {
      "image/png": "[encoded data removed]",
      "text/plain": [
       "<Figure size 640x480 with 2 Axes>"
      ]
     },
     "metadata": {},
     "output_type": "display_data"
    }
   ],
   "source": [
    "model_nb = GaussianNB(var_smoothing = 1e-09).fit(X_proj_train, y_train) \n",
    "\n",
    "# Performs Permutation\n",
    "permutation_score = permutation_importance(model_nb, X_proj_train, y_train, n_repeats=10) \n",
    "\n",
    "# Unstack results showing the decrease in performance after shuffling features\n",
    "importance_df = pd.DataFrame(np.vstack((X_proj_train.columns,\n",
    "                                        permutation_score.importances_mean)).T) \n",
    "importance_df.columns=['feature','score decrease']\n",
    "\n",
    "# Show the important features\n",
    "importance_df.sort_values(by=\"score decrease\", ascending = False) \n",
    "\n",
    "y_pred_nb = model_nb.predict(X_proj_test)\n",
    "perform(y_test, y_pred_nb)"
   ]
  },
  {
   "cell_type": "code",
   "execution_count": 43,
   "id": "2053cc18",
   "metadata": {},
   "outputs": [
    {
     "data": {
      "text/plain": [
       "0    431\n",
       "1    163\n",
       "Name: Age abandoned school, dtype: int64"
      ]
     },
     "execution_count": 43,
     "metadata": {},
     "output_type": "execute_result"
    }
   ],
   "source": [
    "y_test.value_counts()"
   ]
  },
  {
   "cell_type": "markdown",
   "id": "1c0e00a0",
   "metadata": {},
   "source": [
    "### SVC "
   ]
  },
  {
   "cell_type": "code",
   "execution_count": null,
   "id": "9223c7b9",
   "metadata": {
    "scrolled": true
   },
   "outputs": [],
   "source": [
    "model_svc = SVC(C= 10, gamma= \"scale\", kernel= \"rbf\")\n",
    "model_svc.fit(X_proj_train, y_train) \n",
    "\n",
    "# Performs Permutation\n",
    "permutation_score = permutation_importance(model_svc, X_proj_train, y_train, n_repeats=10) \n",
    "\n",
    "# Unstack results showing the decrease in performance after shuffling features\n",
    "importance_df = pd.DataFrame(np.vstack((X_proj_train.columns,\n",
    "                                        permutation_score.importances_mean)).T) \n",
    "importance_df.columns=['feature','score decrease']\n",
    "\n",
    "# Show the important features\n",
    "importance_df.sort_values(by=\"score decrease\", ascending = False) \n",
    "\n",
    "y_pred_svc = model_svc.predict(X_proj_test)\n",
    "perform(y_test, y_pred_svc)"
   ]
  },
  {
   "cell_type": "markdown",
   "id": "237f06b4",
   "metadata": {},
   "source": [
    "### Random Forest"
   ]
  },
  {
   "cell_type": "code",
   "execution_count": 30,
   "id": "c5317a08",
   "metadata": {},
   "outputs": [
    {
     "name": "stdout",
     "output_type": "stream",
     "text": [
      "Precision :  0.3546099290780142\n",
      "Recall :  0.3067484662576687\n",
      "Accuracy :  0.6565656565656566\n",
      "F1 Score :  0.3289473684210526\n",
      "\n",
      " [[340  91]\n",
      " [113  50]]\n",
      "\n",
      "\n",
      "******************************************************\n",
      "                Classification Report\n",
      "******************************************************\n",
      "              precision    recall  f1-score   support\n",
      "\n",
      "           0       0.75      0.79      0.77       431\n",
      "           1       0.35      0.31      0.33       163\n",
      "\n",
      "    accuracy                           0.66       594\n",
      "   macro avg       0.55      0.55      0.55       594\n",
      "weighted avg       0.64      0.66      0.65       594\n",
      "\n",
      "******************************************************\n",
      "\n"
     ]
    },
    {
     "data": {
      "image/png": "[encoded data removed]",
      "text/plain": [
       "<Figure size 640x480 with 2 Axes>"
      ]
     },
     "metadata": {},
     "output_type": "display_data"
    }
   ],
   "source": [
    "clf = RandomForestClassifier(max_depth= None, min_samples_leaf= 1, min_samples_split= 2, n_estimators= 200)\n",
    "\n",
    "clf.fit(X_train, y_train)\n",
    "\n",
    "# Performs Permutation\n",
    "permutation_score = permutation_importance(clf, X_train, y_train, n_repeats=10) \n",
    "\n",
    "# Unstack results showing the decrease in performance after shuffling features\n",
    "importance_df = pd.DataFrame(np.vstack((X_train.columns,\n",
    "                                        permutation_score.importances_mean)).T) \n",
    "importance_df.columns=['feature','score decrease']\n",
    "\n",
    "# Show the important features\n",
    "importance_df.sort_values(by=\"score decrease\", ascending = False) \n",
    "\n",
    "y_pred_clf = clf.predict(X_test)\n",
    "\n",
    "perform(y_test, y_pred_clf)"
   ]
  },
  {
   "cell_type": "markdown",
   "id": "e62a1430",
   "metadata": {},
   "source": [
    "## Precision/Recall trade off "
   ]
  },
  {
   "cell_type": "code",
   "execution_count": 39,
   "id": "dec3bfe3",
   "metadata": {},
   "outputs": [
    {
     "name": "stdout",
     "output_type": "stream",
     "text": [
      "precision- [0.5        0.5001377  0.50027548 0.49986215 0.49972421]\n",
      "recall- [1.         1.         1.         0.99834802 0.99779736]\n",
      "threshold- [0.19699046 0.21623118 0.21942471 0.22266778 0.2243576 ]\n"
     ]
    }
   ],
   "source": [
    "# To get the predict_proba for a model\n",
    "proba_dropout, proba_enrolled =cross_val_predict(GaussianNB(),\n",
    "                                                X_proj_train,\n",
    "                                                y_train,\n",
    "                                                cv=5,\n",
    "                                                method='predict_proba').T\n",
    "\n",
    "# precision recall data\n",
    "precision, recall, threshold = precision_recall_curve(y_train, proba_dropout) \n",
    "\n",
    "print(f'precision- {precision[:5]}')\n",
    "print(f'recall- {recall[:5]}')\n",
    "print(f'threshold- {threshold[:5]}')"
   ]
  },
  {
   "cell_type": "code",
   "execution_count": 40,
   "id": "1b2dfe59",
   "metadata": {},
   "outputs": [
    {
     "data": {
      "text/html": [
       "<div>\n",
       "<style scoped>\n",
       "    .dataframe tbody tr th:only-of-type {\n",
       "        vertical-align: middle;\n",
       "    }\n",
       "\n",
       "    .dataframe tbody tr th {\n",
       "        vertical-align: top;\n",
       "    }\n",
       "\n",
       "    .dataframe thead th {\n",
       "        text-align: right;\n",
       "    }\n",
       "</style>\n",
       "<table border=\"1\" class=\"dataframe\">\n",
       "  <thead>\n",
       "    <tr style=\"text-align: right;\">\n",
       "      <th></th>\n",
       "      <th>threshold</th>\n",
       "      <th>precision</th>\n",
       "      <th>recall</th>\n",
       "    </tr>\n",
       "  </thead>\n",
       "  <tbody>\n",
       "    <tr>\n",
       "      <th>0</th>\n",
       "      <td>0.196990</td>\n",
       "      <td>0.500138</td>\n",
       "      <td>1.000000</td>\n",
       "    </tr>\n",
       "    <tr>\n",
       "      <th>1</th>\n",
       "      <td>0.216231</td>\n",
       "      <td>0.500275</td>\n",
       "      <td>1.000000</td>\n",
       "    </tr>\n",
       "    <tr>\n",
       "      <th>2</th>\n",
       "      <td>0.219425</td>\n",
       "      <td>0.499862</td>\n",
       "      <td>0.998348</td>\n",
       "    </tr>\n",
       "    <tr>\n",
       "      <th>3</th>\n",
       "      <td>0.222668</td>\n",
       "      <td>0.499724</td>\n",
       "      <td>0.997797</td>\n",
       "    </tr>\n",
       "    <tr>\n",
       "      <th>4</th>\n",
       "      <td>0.224358</td>\n",
       "      <td>0.499862</td>\n",
       "      <td>0.997797</td>\n",
       "    </tr>\n",
       "    <tr>\n",
       "      <th>...</th>\n",
       "      <td>...</td>\n",
       "      <td>...</td>\n",
       "      <td>...</td>\n",
       "    </tr>\n",
       "    <tr>\n",
       "      <th>3207</th>\n",
       "      <td>0.998858</td>\n",
       "      <td>0.000000</td>\n",
       "      <td>0.000000</td>\n",
       "    </tr>\n",
       "    <tr>\n",
       "      <th>3208</th>\n",
       "      <td>0.999314</td>\n",
       "      <td>0.000000</td>\n",
       "      <td>0.000000</td>\n",
       "    </tr>\n",
       "    <tr>\n",
       "      <th>3209</th>\n",
       "      <td>0.999685</td>\n",
       "      <td>0.000000</td>\n",
       "      <td>0.000000</td>\n",
       "    </tr>\n",
       "    <tr>\n",
       "      <th>3210</th>\n",
       "      <td>0.999718</td>\n",
       "      <td>0.000000</td>\n",
       "      <td>0.000000</td>\n",
       "    </tr>\n",
       "    <tr>\n",
       "      <th>3211</th>\n",
       "      <td>0.999912</td>\n",
       "      <td>1.000000</td>\n",
       "      <td>0.000000</td>\n",
       "    </tr>\n",
       "  </tbody>\n",
       "</table>\n",
       "<p>3212 rows × 3 columns</p>\n",
       "</div>"
      ],
      "text/plain": [
       "      threshold  precision    recall\n",
       "0      0.196990   0.500138  1.000000\n",
       "1      0.216231   0.500275  1.000000\n",
       "2      0.219425   0.499862  0.998348\n",
       "3      0.222668   0.499724  0.997797\n",
       "4      0.224358   0.499862  0.997797\n",
       "...         ...        ...       ...\n",
       "3207   0.998858   0.000000  0.000000\n",
       "3208   0.999314   0.000000  0.000000\n",
       "3209   0.999685   0.000000  0.000000\n",
       "3210   0.999718   0.000000  0.000000\n",
       "3211   0.999912   1.000000  0.000000\n",
       "\n",
       "[3212 rows x 3 columns]"
      ]
     },
     "execution_count": 40,
     "metadata": {},
     "output_type": "execute_result"
    }
   ],
   "source": [
    "# To view the scores in a DF\n",
    "scores = pd.DataFrame({'threshold':threshold,\n",
    "                       'precision': precision[1:],\n",
    "                       'recall':recall[1:]}) # Store in a dataframe\n",
    "scores"
   ]
  },
  {
   "cell_type": "code",
   "execution_count": 41,
   "id": "b11107d4",
   "metadata": {},
   "outputs": [
    {
     "data": {
      "text/plain": [
       "Text(0.5, 0, 'recall')"
      ]
     },
     "execution_count": 41,
     "metadata": {},
     "output_type": "execute_result"
    },
    {
     "data": {
      "image/png": "[encoded data removed]",
      "text/plain": [
       "<Figure size 640x480 with 1 Axes>"
      ]
     },
     "metadata": {},
     "output_type": "display_data"
    }
   ],
   "source": [
    "# Plotting Recall vs Precision\n",
    "plt.plot(scores['recall'],scores['precision'])\n",
    "plt.ylabel('precision')\n",
    "plt.xlabel('recall')"
   ]
  }
 ],
 "metadata": {
  "kernelspec": {
   "display_name": "Python 3 (ipykernel)",
   "language": "python",
   "name": "python3"
  },
  "language_info": {
   "codemirror_mode": {
    "name": "ipython",
    "version": 3
   },
   "file_extension": ".py",
   "mimetype": "text/x-python",
   "name": "python",
   "nbconvert_exporter": "python",
   "pygments_lexer": "ipython3",
   "version": "3.10.6"
  },
  "toc": {
   "base_numbering": 1,
   "nav_menu": {},
   "number_sections": true,
   "sideBar": true,
   "skip_h1_title": false,
   "title_cell": "Table of Contents",
   "title_sidebar": "Contents",
   "toc_cell": false,
   "toc_position": {},
   "toc_section_display": true,
   "toc_window_display": false
  }
 },
 "nbformat": 4,
 "nbformat_minor": 5
}
