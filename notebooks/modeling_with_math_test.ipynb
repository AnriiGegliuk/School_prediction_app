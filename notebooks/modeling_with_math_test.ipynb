{
 "cells": [
  {
   "cell_type": "code",
   "execution_count": 43,
   "id": "5f777900",
   "metadata": {},
   "outputs": [],
   "source": [
    "import numpy as np\n",
    "import pandas as pd\n",
    "import matplotlib.pyplot as plt\n",
    "import seaborn as sns\n",
    "import sklearn \n",
    "from sklearn.pipeline import Pipeline\n",
    "from sklearn.impute import SimpleImputer\n",
    "from sklearn.preprocessing import StandardScaler\n",
    "from sklearn.compose import ColumnTransformer\n",
    "from sklearn.preprocessing import OneHotEncoder\n",
    "from xgboost import XGBClassifier\n",
    "from sklearn.naive_bayes import GaussianNB\n",
    "from sklearn.svm import SVC\n",
    "from sklearn.decomposition import PCA\n",
    "from sklearn.decomposition import KernelPCA\n",
    "from sklearn.inspection import permutation_importance\n",
    "from sklearn.model_selection import GridSearchCV\n",
    "from imblearn.over_sampling import RandomOverSampler\n",
    "from sklearn.ensemble import RandomForestClassifier\n",
    "from sklearn.metrics import precision_recall_curve\n",
    "from sklearn.model_selection import cross_val_predict\n",
    "from sklearn.metrics import precision_score, recall_score, accuracy_score, f1_score, classification_report, confusion_matrix, ConfusionMatrixDisplay, PrecisionRecallDisplay, RocCurveDisplay"
   ]
  },
  {
   "cell_type": "code",
   "execution_count": 2,
   "id": "8078c9e2",
   "metadata": {},
   "outputs": [],
   "source": [
    "data = pd.read_csv(\"../raw_data/file_with_mathtest_features.csv\",low_memory=False)"
   ]
  },
  {
   "cell_type": "markdown",
   "id": "e008fd68",
   "metadata": {},
   "source": [
    "## Variables"
   ]
  },
  {
   "cell_type": "code",
   "execution_count": 3,
   "id": "569e9944",
   "metadata": {
    "scrolled": true
   },
   "outputs": [
    {
     "data": {
      "text/plain": [
       "Index(['hhid', 'Gender', 'mother_alive', 'father_alive', 'parents_age',\n",
       "       'marital_status', 'darija', 'class_arabic', 'french', 'amazygh',\n",
       "       'read_one_lang', 'write_one_lang', 'no_read_write', 'parents_level_ed',\n",
       "       'num_per_house', 'type_housing', 'automobiles', 'mobile_phones',\n",
       "       'satellite', 'no_water', 'individual_water_net', 'electrical_net_co',\n",
       "       'school_id', 'child_enrollment', 'class_when_dropout', 'region',\n",
       "       'province', 'Age abandoned school', 'schoolunitid', 'type_unit',\n",
       "       'groupid', 'num_menage', 'done_test', 'digit_recognition_res',\n",
       "       'number_recognition_res', 'subtraction_res', 'division_res',\n",
       "       'work_activity_classified'],\n",
       "      dtype='object')"
      ]
     },
     "execution_count": 3,
     "metadata": {},
     "output_type": "execute_result"
    }
   ],
   "source": [
    "data.columns"
   ]
  },
  {
   "cell_type": "code",
   "execution_count": 4,
   "id": "8c005f9f",
   "metadata": {},
   "outputs": [],
   "source": [
    "data = data.drop(columns=[\"Gender\",\"darija\",\"class_arabic\",\"french\",\"amazygh\",\n",
    "                    \"read_one_lang\",\"write_one_lang\",\"type_housing\",\"satellite\",\"school_id\",\n",
    "                   \"child_enrollment\",\"class_when_dropout\",\"schoolunitid\",\"type_unit\",\"groupid\",\"num_menage\",\n",
    "                   \"done_test\"])"
   ]
  },
  {
   "cell_type": "markdown",
   "id": "2ae18488",
   "metadata": {},
   "source": [
    "### Features cleaning (Math Test)"
   ]
  },
  {
   "cell_type": "code",
   "execution_count": 5,
   "id": "739d9d68",
   "metadata": {},
   "outputs": [],
   "source": [
    "# Digit Recognition\n",
    "data['digit_recognition_res'] = pd.to_numeric(data['digit_recognition_res'], errors='coerce')\n",
    "data = data.dropna(subset=['digit_recognition_res'])"
   ]
  },
  {
   "cell_type": "code",
   "execution_count": 6,
   "id": "aef9b430",
   "metadata": {},
   "outputs": [],
   "source": [
    "# Numbers Recognition\n",
    "data['number_recognition_res'] = pd.to_numeric(data['number_recognition_res'], errors='coerce')\n",
    "data = data.dropna(subset=['number_recognition_res'])"
   ]
  },
  {
   "cell_type": "code",
   "execution_count": 7,
   "id": "77c41295",
   "metadata": {},
   "outputs": [],
   "source": [
    "# Substraction\n",
    "data['subtraction_res'] = pd.to_numeric(data['subtraction_res'], errors='coerce')\n",
    "data = data.dropna(subset=['subtraction_res'])"
   ]
  },
  {
   "cell_type": "code",
   "execution_count": 8,
   "id": "804ff96e",
   "metadata": {},
   "outputs": [],
   "source": [
    "# Division\n",
    "data['division_res'] = pd.to_numeric(data['division_res'], errors='coerce')\n",
    "data = data.dropna(subset=['division_res'])"
   ]
  },
  {
   "cell_type": "markdown",
   "id": "081300e2",
   "metadata": {},
   "source": [
    "### Define X, y "
   ]
  },
  {
   "cell_type": "code",
   "execution_count": 9,
   "id": "df5308a2",
   "metadata": {},
   "outputs": [],
   "source": [
    "X = data.drop(\"Age abandoned school\", axis=1)\n",
    "y = data[\"Age abandoned school\"]"
   ]
  },
  {
   "cell_type": "code",
   "execution_count": 17,
   "id": "2b745af5",
   "metadata": {},
   "outputs": [
    {
     "data": {
      "text/plain": [
       "Index(['hhid', 'mother_alive', 'father_alive', 'parents_age', 'marital_status',\n",
       "       'no_read_write', 'parents_level_ed', 'num_per_house', 'automobiles',\n",
       "       'mobile_phones', 'no_water', 'individual_water_net',\n",
       "       'electrical_net_co', 'region', 'province', 'digit_recognition_res',\n",
       "       'number_recognition_res', 'subtraction_res', 'division_res',\n",
       "       'work_activity_classified'],\n",
       "      dtype='object')"
      ]
     },
     "execution_count": 17,
     "metadata": {},
     "output_type": "execute_result"
    }
   ],
   "source": [
    "X.columns"
   ]
  },
  {
   "cell_type": "markdown",
   "id": "5b13540b",
   "metadata": {},
   "source": [
    "### Remove features columns"
   ]
  },
  {
   "cell_type": "code",
   "execution_count": 26,
   "id": "1f8d4df5",
   "metadata": {
    "collapsed": true
   },
   "outputs": [
    {
     "ename": "KeyError",
     "evalue": "\"['automobiles', 'region', 'province', 'electrical_net_co', 'no_water', 'no_read_write'] not found in axis\"",
     "output_type": "error",
     "traceback": [
      "\u001b[0;31m---------------------------------------------------------------------------\u001b[0m",
      "\u001b[0;31mKeyError\u001b[0m                                  Traceback (most recent call last)",
      "Cell \u001b[0;32mIn [26], line 1\u001b[0m\n\u001b[0;32m----> 1\u001b[0m X \u001b[38;5;241m=\u001b[39m \u001b[43mX\u001b[49m\u001b[38;5;241;43m.\u001b[39;49m\u001b[43mdrop\u001b[49m\u001b[43m(\u001b[49m\u001b[43mcolumns\u001b[49m\u001b[38;5;241;43m=\u001b[39;49m\u001b[43m[\u001b[49m\u001b[38;5;124;43m\"\u001b[39;49m\u001b[38;5;124;43mautomobiles\u001b[39;49m\u001b[38;5;124;43m\"\u001b[39;49m\u001b[43m,\u001b[49m\u001b[38;5;124;43m\"\u001b[39;49m\u001b[38;5;124;43mregion\u001b[39;49m\u001b[38;5;124;43m\"\u001b[39;49m\u001b[43m,\u001b[49m\u001b[38;5;124;43m\"\u001b[39;49m\u001b[38;5;124;43mprovince\u001b[39;49m\u001b[38;5;124;43m\"\u001b[39;49m\u001b[43m,\u001b[49m\u001b[38;5;124;43m\"\u001b[39;49m\u001b[38;5;124;43melectrical_net_co\u001b[39;49m\u001b[38;5;124;43m\"\u001b[39;49m\u001b[43m,\u001b[49m\u001b[38;5;124;43m\"\u001b[39;49m\u001b[38;5;124;43mno_water\u001b[39;49m\u001b[38;5;124;43m\"\u001b[39;49m\u001b[43m,\u001b[49m\n\u001b[1;32m      2\u001b[0m \u001b[43m                    \u001b[49m\u001b[38;5;124;43m\"\u001b[39;49m\u001b[38;5;124;43mno_read_write\u001b[39;49m\u001b[38;5;124;43m\"\u001b[39;49m\u001b[43m,\u001b[49m\u001b[38;5;124;43m\"\u001b[39;49m\u001b[38;5;124;43mdigit_recognition_res\u001b[39;49m\u001b[38;5;124;43m\"\u001b[39;49m\u001b[43m,\u001b[49m\u001b[38;5;124;43m\"\u001b[39;49m\u001b[38;5;124;43mnumber_recognition_res\u001b[39;49m\u001b[38;5;124;43m\"\u001b[39;49m\u001b[43m]\u001b[49m\u001b[43m)\u001b[49m\n",
      "File \u001b[0;32m~/.pyenv/versions/dropoutpred-env/lib/python3.10/site-packages/pandas/util/_decorators.py:311\u001b[0m, in \u001b[0;36mdeprecate_nonkeyword_arguments.<locals>.decorate.<locals>.wrapper\u001b[0;34m(*args, **kwargs)\u001b[0m\n\u001b[1;32m    305\u001b[0m \u001b[38;5;28;01mif\u001b[39;00m \u001b[38;5;28mlen\u001b[39m(args) \u001b[38;5;241m>\u001b[39m num_allow_args:\n\u001b[1;32m    306\u001b[0m     warnings\u001b[38;5;241m.\u001b[39mwarn(\n\u001b[1;32m    307\u001b[0m         msg\u001b[38;5;241m.\u001b[39mformat(arguments\u001b[38;5;241m=\u001b[39marguments),\n\u001b[1;32m    308\u001b[0m         \u001b[38;5;167;01mFutureWarning\u001b[39;00m,\n\u001b[1;32m    309\u001b[0m         stacklevel\u001b[38;5;241m=\u001b[39mstacklevel,\n\u001b[1;32m    310\u001b[0m     )\n\u001b[0;32m--> 311\u001b[0m \u001b[38;5;28;01mreturn\u001b[39;00m \u001b[43mfunc\u001b[49m\u001b[43m(\u001b[49m\u001b[38;5;241;43m*\u001b[39;49m\u001b[43margs\u001b[49m\u001b[43m,\u001b[49m\u001b[43m \u001b[49m\u001b[38;5;241;43m*\u001b[39;49m\u001b[38;5;241;43m*\u001b[39;49m\u001b[43mkwargs\u001b[49m\u001b[43m)\u001b[49m\n",
      "File \u001b[0;32m~/.pyenv/versions/dropoutpred-env/lib/python3.10/site-packages/pandas/core/frame.py:4957\u001b[0m, in \u001b[0;36mDataFrame.drop\u001b[0;34m(self, labels, axis, index, columns, level, inplace, errors)\u001b[0m\n\u001b[1;32m   4809\u001b[0m \u001b[38;5;129m@deprecate_nonkeyword_arguments\u001b[39m(version\u001b[38;5;241m=\u001b[39m\u001b[38;5;28;01mNone\u001b[39;00m, allowed_args\u001b[38;5;241m=\u001b[39m[\u001b[38;5;124m\"\u001b[39m\u001b[38;5;124mself\u001b[39m\u001b[38;5;124m\"\u001b[39m, \u001b[38;5;124m\"\u001b[39m\u001b[38;5;124mlabels\u001b[39m\u001b[38;5;124m\"\u001b[39m])\n\u001b[1;32m   4810\u001b[0m \u001b[38;5;28;01mdef\u001b[39;00m \u001b[38;5;21mdrop\u001b[39m(\n\u001b[1;32m   4811\u001b[0m     \u001b[38;5;28mself\u001b[39m,\n\u001b[0;32m   (...)\u001b[0m\n\u001b[1;32m   4818\u001b[0m     errors: \u001b[38;5;28mstr\u001b[39m \u001b[38;5;241m=\u001b[39m \u001b[38;5;124m\"\u001b[39m\u001b[38;5;124mraise\u001b[39m\u001b[38;5;124m\"\u001b[39m,\n\u001b[1;32m   4819\u001b[0m ):\n\u001b[1;32m   4820\u001b[0m     \u001b[38;5;124;03m\"\"\"\u001b[39;00m\n\u001b[1;32m   4821\u001b[0m \u001b[38;5;124;03m    Drop specified labels from rows or columns.\u001b[39;00m\n\u001b[1;32m   4822\u001b[0m \n\u001b[0;32m   (...)\u001b[0m\n\u001b[1;32m   4955\u001b[0m \u001b[38;5;124;03m            weight  1.0     0.8\u001b[39;00m\n\u001b[1;32m   4956\u001b[0m \u001b[38;5;124;03m    \"\"\"\u001b[39;00m\n\u001b[0;32m-> 4957\u001b[0m     \u001b[38;5;28;01mreturn\u001b[39;00m \u001b[38;5;28;43msuper\u001b[39;49m\u001b[43m(\u001b[49m\u001b[43m)\u001b[49m\u001b[38;5;241;43m.\u001b[39;49m\u001b[43mdrop\u001b[49m\u001b[43m(\u001b[49m\n\u001b[1;32m   4958\u001b[0m \u001b[43m        \u001b[49m\u001b[43mlabels\u001b[49m\u001b[38;5;241;43m=\u001b[39;49m\u001b[43mlabels\u001b[49m\u001b[43m,\u001b[49m\n\u001b[1;32m   4959\u001b[0m \u001b[43m        \u001b[49m\u001b[43maxis\u001b[49m\u001b[38;5;241;43m=\u001b[39;49m\u001b[43maxis\u001b[49m\u001b[43m,\u001b[49m\n\u001b[1;32m   4960\u001b[0m \u001b[43m        \u001b[49m\u001b[43mindex\u001b[49m\u001b[38;5;241;43m=\u001b[39;49m\u001b[43mindex\u001b[49m\u001b[43m,\u001b[49m\n\u001b[1;32m   4961\u001b[0m \u001b[43m        \u001b[49m\u001b[43mcolumns\u001b[49m\u001b[38;5;241;43m=\u001b[39;49m\u001b[43mcolumns\u001b[49m\u001b[43m,\u001b[49m\n\u001b[1;32m   4962\u001b[0m \u001b[43m        \u001b[49m\u001b[43mlevel\u001b[49m\u001b[38;5;241;43m=\u001b[39;49m\u001b[43mlevel\u001b[49m\u001b[43m,\u001b[49m\n\u001b[1;32m   4963\u001b[0m \u001b[43m        \u001b[49m\u001b[43minplace\u001b[49m\u001b[38;5;241;43m=\u001b[39;49m\u001b[43minplace\u001b[49m\u001b[43m,\u001b[49m\n\u001b[1;32m   4964\u001b[0m \u001b[43m        \u001b[49m\u001b[43merrors\u001b[49m\u001b[38;5;241;43m=\u001b[39;49m\u001b[43merrors\u001b[49m\u001b[43m,\u001b[49m\n\u001b[1;32m   4965\u001b[0m \u001b[43m    \u001b[49m\u001b[43m)\u001b[49m\n",
      "File \u001b[0;32m~/.pyenv/versions/dropoutpred-env/lib/python3.10/site-packages/pandas/core/generic.py:4267\u001b[0m, in \u001b[0;36mNDFrame.drop\u001b[0;34m(self, labels, axis, index, columns, level, inplace, errors)\u001b[0m\n\u001b[1;32m   4265\u001b[0m \u001b[38;5;28;01mfor\u001b[39;00m axis, labels \u001b[38;5;129;01min\u001b[39;00m axes\u001b[38;5;241m.\u001b[39mitems():\n\u001b[1;32m   4266\u001b[0m     \u001b[38;5;28;01mif\u001b[39;00m labels \u001b[38;5;129;01mis\u001b[39;00m \u001b[38;5;129;01mnot\u001b[39;00m \u001b[38;5;28;01mNone\u001b[39;00m:\n\u001b[0;32m-> 4267\u001b[0m         obj \u001b[38;5;241m=\u001b[39m \u001b[43mobj\u001b[49m\u001b[38;5;241;43m.\u001b[39;49m\u001b[43m_drop_axis\u001b[49m\u001b[43m(\u001b[49m\u001b[43mlabels\u001b[49m\u001b[43m,\u001b[49m\u001b[43m \u001b[49m\u001b[43maxis\u001b[49m\u001b[43m,\u001b[49m\u001b[43m \u001b[49m\u001b[43mlevel\u001b[49m\u001b[38;5;241;43m=\u001b[39;49m\u001b[43mlevel\u001b[49m\u001b[43m,\u001b[49m\u001b[43m \u001b[49m\u001b[43merrors\u001b[49m\u001b[38;5;241;43m=\u001b[39;49m\u001b[43merrors\u001b[49m\u001b[43m)\u001b[49m\n\u001b[1;32m   4269\u001b[0m \u001b[38;5;28;01mif\u001b[39;00m inplace:\n\u001b[1;32m   4270\u001b[0m     \u001b[38;5;28mself\u001b[39m\u001b[38;5;241m.\u001b[39m_update_inplace(obj)\n",
      "File \u001b[0;32m~/.pyenv/versions/dropoutpred-env/lib/python3.10/site-packages/pandas/core/generic.py:4311\u001b[0m, in \u001b[0;36mNDFrame._drop_axis\u001b[0;34m(self, labels, axis, level, errors, consolidate, only_slice)\u001b[0m\n\u001b[1;32m   4309\u001b[0m         new_axis \u001b[38;5;241m=\u001b[39m axis\u001b[38;5;241m.\u001b[39mdrop(labels, level\u001b[38;5;241m=\u001b[39mlevel, errors\u001b[38;5;241m=\u001b[39merrors)\n\u001b[1;32m   4310\u001b[0m     \u001b[38;5;28;01melse\u001b[39;00m:\n\u001b[0;32m-> 4311\u001b[0m         new_axis \u001b[38;5;241m=\u001b[39m \u001b[43maxis\u001b[49m\u001b[38;5;241;43m.\u001b[39;49m\u001b[43mdrop\u001b[49m\u001b[43m(\u001b[49m\u001b[43mlabels\u001b[49m\u001b[43m,\u001b[49m\u001b[43m \u001b[49m\u001b[43merrors\u001b[49m\u001b[38;5;241;43m=\u001b[39;49m\u001b[43merrors\u001b[49m\u001b[43m)\u001b[49m\n\u001b[1;32m   4312\u001b[0m     indexer \u001b[38;5;241m=\u001b[39m axis\u001b[38;5;241m.\u001b[39mget_indexer(new_axis)\n\u001b[1;32m   4314\u001b[0m \u001b[38;5;66;03m# Case for non-unique axis\u001b[39;00m\n\u001b[1;32m   4315\u001b[0m \u001b[38;5;28;01melse\u001b[39;00m:\n",
      "File \u001b[0;32m~/.pyenv/versions/dropoutpred-env/lib/python3.10/site-packages/pandas/core/indexes/base.py:6661\u001b[0m, in \u001b[0;36mIndex.drop\u001b[0;34m(self, labels, errors)\u001b[0m\n\u001b[1;32m   6659\u001b[0m \u001b[38;5;28;01mif\u001b[39;00m mask\u001b[38;5;241m.\u001b[39many():\n\u001b[1;32m   6660\u001b[0m     \u001b[38;5;28;01mif\u001b[39;00m errors \u001b[38;5;241m!=\u001b[39m \u001b[38;5;124m\"\u001b[39m\u001b[38;5;124mignore\u001b[39m\u001b[38;5;124m\"\u001b[39m:\n\u001b[0;32m-> 6661\u001b[0m         \u001b[38;5;28;01mraise\u001b[39;00m \u001b[38;5;167;01mKeyError\u001b[39;00m(\u001b[38;5;124mf\u001b[39m\u001b[38;5;124m\"\u001b[39m\u001b[38;5;132;01m{\u001b[39;00m\u001b[38;5;28mlist\u001b[39m(labels[mask])\u001b[38;5;132;01m}\u001b[39;00m\u001b[38;5;124m not found in axis\u001b[39m\u001b[38;5;124m\"\u001b[39m)\n\u001b[1;32m   6662\u001b[0m     indexer \u001b[38;5;241m=\u001b[39m indexer[\u001b[38;5;241m~\u001b[39mmask]\n\u001b[1;32m   6663\u001b[0m \u001b[38;5;28;01mreturn\u001b[39;00m \u001b[38;5;28mself\u001b[39m\u001b[38;5;241m.\u001b[39mdelete(indexer)\n",
      "\u001b[0;31mKeyError\u001b[0m: \"['automobiles', 'region', 'province', 'electrical_net_co', 'no_water', 'no_read_write'] not found in axis\""
     ]
    }
   ],
   "source": [
    "X = X.drop(columns=[\"automobiles\",\"region\",\"province\",\"electrical_net_co\",\"no_water\",\n",
    "                    \"no_read_write\",\"digit_recognition_res\",\"number_recognition_res\"])"
   ]
  },
  {
   "cell_type": "code",
   "execution_count": 32,
   "id": "cf113e77",
   "metadata": {},
   "outputs": [
    {
     "data": {
      "text/plain": [
       "(2969, 14)"
      ]
     },
     "execution_count": 32,
     "metadata": {},
     "output_type": "execute_result"
    }
   ],
   "source": [
    "X.shape"
   ]
  },
  {
   "cell_type": "markdown",
   "id": "56298a52",
   "metadata": {},
   "source": [
    "## Pipeline preprocessor"
   ]
  },
  {
   "cell_type": "code",
   "execution_count": null,
   "id": "cf9ea24f",
   "metadata": {},
   "outputs": [],
   "source": [
    "from sklearn.model_selection import train_test_split\n",
    "\n",
    "X_train, X_test, y_train, y_test = train_test_split(X, y, test_size = 0.20)\n",
    "X_train.shape, X_test.shape, y_train.shape, y_test.shape\n",
    "\n",
    "X_train.set_index('hhid', inplace=True)\n",
    "X_test.set_index('hhid', inplace=True)\n",
    "\n",
    "oversample = RandomOverSampler()\n",
    "X_train, y_train = oversample.fit_resample(X_train, y_train)\n",
    "\n",
    "X_train_num = X_train.select_dtypes(include=[\"float64\",\"int64\"])\n",
    "X_test_num = X_test.select_dtypes(include=[\"float64\",\"int64\"])\n",
    "\n",
    "pipeline = Pipeline([\n",
    "    ('imputer', SimpleImputer(strategy=\"mean\")),\n",
    "    ('standard_scaler', StandardScaler())]).set_output(transform=\"pandas\")\n",
    "\n",
    "pipeline.fit(X_train_num)\n",
    "X_train_transformed = pipeline.transform(X_train_num)\n",
    "X_test_transformed = pipeline.transform(X_test_num)"
   ]
  },
  {
   "cell_type": "code",
   "execution_count": null,
   "id": "6a6d2769",
   "metadata": {},
   "outputs": [],
   "source": [
    "X_train_transformed.head()"
   ]
  },
  {
   "cell_type": "markdown",
   "id": "c86ce788",
   "metadata": {},
   "source": [
    "## PCA & Features Transformation"
   ]
  },
  {
   "cell_type": "markdown",
   "id": "13516184",
   "metadata": {},
   "source": [
    "### PCA"
   ]
  },
  {
   "cell_type": "code",
   "execution_count": null,
   "id": "cc3d1dd9",
   "metadata": {
    "scrolled": true
   },
   "outputs": [],
   "source": [
    "pca = PCA()\n",
    "pca.fit(X_train_transformed)\n",
    "\n",
    "# Metrics\n",
    "print(pca.explained_variance_ratio_)\n",
    "print(pca.singular_values_)\n",
    "\n",
    "# Dimensionality reduction (Train)\n",
    "X_proj_train = pca.transform(X_train_transformed)\n",
    "X_proj_train = pd.DataFrame(X_proj_train, columns=[f'PC{i}' for i in range(1, X_train_transformed.shape[1]+1)])\n",
    "X_proj_train"
   ]
  },
  {
   "cell_type": "code",
   "execution_count": 27,
   "id": "ac1bcf38",
   "metadata": {},
   "outputs": [
    {
     "data": {
      "text/html": [
       "<div>\n",
       "<style scoped>\n",
       "    .dataframe tbody tr th:only-of-type {\n",
       "        vertical-align: middle;\n",
       "    }\n",
       "\n",
       "    .dataframe tbody tr th {\n",
       "        vertical-align: top;\n",
       "    }\n",
       "\n",
       "    .dataframe thead th {\n",
       "        text-align: right;\n",
       "    }\n",
       "</style>\n",
       "<table border=\"1\" class=\"dataframe\">\n",
       "  <thead>\n",
       "    <tr style=\"text-align: right;\">\n",
       "      <th></th>\n",
       "      <th>PC1</th>\n",
       "      <th>PC2</th>\n",
       "      <th>PC3</th>\n",
       "      <th>PC4</th>\n",
       "      <th>PC5</th>\n",
       "      <th>PC6</th>\n",
       "      <th>PC7</th>\n",
       "      <th>PC8</th>\n",
       "      <th>PC9</th>\n",
       "      <th>PC10</th>\n",
       "      <th>PC11</th>\n",
       "      <th>PC12</th>\n",
       "      <th>PC13</th>\n",
       "    </tr>\n",
       "  </thead>\n",
       "  <tbody>\n",
       "    <tr>\n",
       "      <th>0</th>\n",
       "      <td>1.124195</td>\n",
       "      <td>-0.600432</td>\n",
       "      <td>-0.379575</td>\n",
       "      <td>0.168829</td>\n",
       "      <td>0.613583</td>\n",
       "      <td>-0.402597</td>\n",
       "      <td>0.666943</td>\n",
       "      <td>0.816628</td>\n",
       "      <td>-0.615419</td>\n",
       "      <td>-0.011389</td>\n",
       "      <td>1.382120</td>\n",
       "      <td>-0.581556</td>\n",
       "      <td>-0.564635</td>\n",
       "    </tr>\n",
       "    <tr>\n",
       "      <th>1</th>\n",
       "      <td>0.601614</td>\n",
       "      <td>0.387811</td>\n",
       "      <td>-0.319618</td>\n",
       "      <td>-1.141246</td>\n",
       "      <td>0.104645</td>\n",
       "      <td>-1.000648</td>\n",
       "      <td>0.731570</td>\n",
       "      <td>-0.859529</td>\n",
       "      <td>0.227177</td>\n",
       "      <td>-0.191875</td>\n",
       "      <td>-0.055690</td>\n",
       "      <td>-1.013877</td>\n",
       "      <td>-0.453452</td>\n",
       "    </tr>\n",
       "    <tr>\n",
       "      <th>2</th>\n",
       "      <td>0.210268</td>\n",
       "      <td>0.119656</td>\n",
       "      <td>0.015745</td>\n",
       "      <td>-0.988150</td>\n",
       "      <td>0.468870</td>\n",
       "      <td>0.126373</td>\n",
       "      <td>-2.006177</td>\n",
       "      <td>-1.513651</td>\n",
       "      <td>0.570503</td>\n",
       "      <td>2.052817</td>\n",
       "      <td>0.193258</td>\n",
       "      <td>0.389884</td>\n",
       "      <td>-0.393670</td>\n",
       "    </tr>\n",
       "    <tr>\n",
       "      <th>3</th>\n",
       "      <td>-1.668411</td>\n",
       "      <td>-0.768348</td>\n",
       "      <td>0.805857</td>\n",
       "      <td>0.732946</td>\n",
       "      <td>-2.139843</td>\n",
       "      <td>-0.395660</td>\n",
       "      <td>-0.564688</td>\n",
       "      <td>-0.517438</td>\n",
       "      <td>0.118181</td>\n",
       "      <td>0.284127</td>\n",
       "      <td>0.110269</td>\n",
       "      <td>0.478896</td>\n",
       "      <td>0.118377</td>\n",
       "    </tr>\n",
       "    <tr>\n",
       "      <th>4</th>\n",
       "      <td>-0.296422</td>\n",
       "      <td>-0.112254</td>\n",
       "      <td>0.514815</td>\n",
       "      <td>-0.239329</td>\n",
       "      <td>-1.374330</td>\n",
       "      <td>-0.006104</td>\n",
       "      <td>-0.468186</td>\n",
       "      <td>-0.002356</td>\n",
       "      <td>1.317756</td>\n",
       "      <td>-0.999233</td>\n",
       "      <td>1.363637</td>\n",
       "      <td>-0.022111</td>\n",
       "      <td>-0.471987</td>\n",
       "    </tr>\n",
       "    <tr>\n",
       "      <th>...</th>\n",
       "      <td>...</td>\n",
       "      <td>...</td>\n",
       "      <td>...</td>\n",
       "      <td>...</td>\n",
       "      <td>...</td>\n",
       "      <td>...</td>\n",
       "      <td>...</td>\n",
       "      <td>...</td>\n",
       "      <td>...</td>\n",
       "      <td>...</td>\n",
       "      <td>...</td>\n",
       "      <td>...</td>\n",
       "      <td>...</td>\n",
       "    </tr>\n",
       "    <tr>\n",
       "      <th>589</th>\n",
       "      <td>1.450494</td>\n",
       "      <td>0.557885</td>\n",
       "      <td>-0.145585</td>\n",
       "      <td>-1.583413</td>\n",
       "      <td>-0.760535</td>\n",
       "      <td>2.942986</td>\n",
       "      <td>-1.055285</td>\n",
       "      <td>1.444928</td>\n",
       "      <td>1.387464</td>\n",
       "      <td>0.281842</td>\n",
       "      <td>-0.362637</td>\n",
       "      <td>-2.590720</td>\n",
       "      <td>-0.840320</td>\n",
       "    </tr>\n",
       "    <tr>\n",
       "      <th>590</th>\n",
       "      <td>3.964302</td>\n",
       "      <td>6.237260</td>\n",
       "      <td>-2.150105</td>\n",
       "      <td>4.207104</td>\n",
       "      <td>-2.087789</td>\n",
       "      <td>-0.082703</td>\n",
       "      <td>-0.868310</td>\n",
       "      <td>-0.152035</td>\n",
       "      <td>1.313924</td>\n",
       "      <td>0.646821</td>\n",
       "      <td>-1.250420</td>\n",
       "      <td>1.073886</td>\n",
       "      <td>-2.937953</td>\n",
       "    </tr>\n",
       "    <tr>\n",
       "      <th>591</th>\n",
       "      <td>-1.714048</td>\n",
       "      <td>-0.555066</td>\n",
       "      <td>2.935116</td>\n",
       "      <td>1.613890</td>\n",
       "      <td>-1.052860</td>\n",
       "      <td>-0.851878</td>\n",
       "      <td>-1.068155</td>\n",
       "      <td>-0.142748</td>\n",
       "      <td>-1.786621</td>\n",
       "      <td>-0.472084</td>\n",
       "      <td>0.010077</td>\n",
       "      <td>-0.013624</td>\n",
       "      <td>0.032606</td>\n",
       "    </tr>\n",
       "    <tr>\n",
       "      <th>592</th>\n",
       "      <td>1.067494</td>\n",
       "      <td>-2.060468</td>\n",
       "      <td>-0.130381</td>\n",
       "      <td>1.563193</td>\n",
       "      <td>1.461811</td>\n",
       "      <td>-0.946961</td>\n",
       "      <td>-0.785888</td>\n",
       "      <td>-1.519509</td>\n",
       "      <td>-0.725506</td>\n",
       "      <td>-0.055201</td>\n",
       "      <td>0.162778</td>\n",
       "      <td>0.172705</td>\n",
       "      <td>0.122219</td>\n",
       "    </tr>\n",
       "    <tr>\n",
       "      <th>593</th>\n",
       "      <td>-0.982255</td>\n",
       "      <td>0.528759</td>\n",
       "      <td>-0.021081</td>\n",
       "      <td>-0.363084</td>\n",
       "      <td>1.678105</td>\n",
       "      <td>1.335881</td>\n",
       "      <td>-1.039652</td>\n",
       "      <td>-1.525047</td>\n",
       "      <td>-0.701944</td>\n",
       "      <td>0.266186</td>\n",
       "      <td>0.167586</td>\n",
       "      <td>0.521422</td>\n",
       "      <td>-0.016401</td>\n",
       "    </tr>\n",
       "  </tbody>\n",
       "</table>\n",
       "<p>594 rows × 13 columns</p>\n",
       "</div>"
      ],
      "text/plain": [
       "          PC1       PC2       PC3       PC4       PC5       PC6       PC7  \\\n",
       "0    1.124195 -0.600432 -0.379575  0.168829  0.613583 -0.402597  0.666943   \n",
       "1    0.601614  0.387811 -0.319618 -1.141246  0.104645 -1.000648  0.731570   \n",
       "2    0.210268  0.119656  0.015745 -0.988150  0.468870  0.126373 -2.006177   \n",
       "3   -1.668411 -0.768348  0.805857  0.732946 -2.139843 -0.395660 -0.564688   \n",
       "4   -0.296422 -0.112254  0.514815 -0.239329 -1.374330 -0.006104 -0.468186   \n",
       "..        ...       ...       ...       ...       ...       ...       ...   \n",
       "589  1.450494  0.557885 -0.145585 -1.583413 -0.760535  2.942986 -1.055285   \n",
       "590  3.964302  6.237260 -2.150105  4.207104 -2.087789 -0.082703 -0.868310   \n",
       "591 -1.714048 -0.555066  2.935116  1.613890 -1.052860 -0.851878 -1.068155   \n",
       "592  1.067494 -2.060468 -0.130381  1.563193  1.461811 -0.946961 -0.785888   \n",
       "593 -0.982255  0.528759 -0.021081 -0.363084  1.678105  1.335881 -1.039652   \n",
       "\n",
       "          PC8       PC9      PC10      PC11      PC12      PC13  \n",
       "0    0.816628 -0.615419 -0.011389  1.382120 -0.581556 -0.564635  \n",
       "1   -0.859529  0.227177 -0.191875 -0.055690 -1.013877 -0.453452  \n",
       "2   -1.513651  0.570503  2.052817  0.193258  0.389884 -0.393670  \n",
       "3   -0.517438  0.118181  0.284127  0.110269  0.478896  0.118377  \n",
       "4   -0.002356  1.317756 -0.999233  1.363637 -0.022111 -0.471987  \n",
       "..        ...       ...       ...       ...       ...       ...  \n",
       "589  1.444928  1.387464  0.281842 -0.362637 -2.590720 -0.840320  \n",
       "590 -0.152035  1.313924  0.646821 -1.250420  1.073886 -2.937953  \n",
       "591 -0.142748 -1.786621 -0.472084  0.010077 -0.013624  0.032606  \n",
       "592 -1.519509 -0.725506 -0.055201  0.162778  0.172705  0.122219  \n",
       "593 -1.525047 -0.701944  0.266186  0.167586  0.521422 -0.016401  \n",
       "\n",
       "[594 rows x 13 columns]"
      ]
     },
     "execution_count": 27,
     "metadata": {},
     "output_type": "execute_result"
    }
   ],
   "source": [
    "# Dimensionality reduction (Test)\n",
    "X_proj_test = pca.transform(X_test_transformed)\n",
    "X_proj_test = pd.DataFrame(X_proj_test, columns=[f'PC{i}' for i in range(1, X_test_transformed.shape[1]+1)])\n",
    "X_proj_test"
   ]
  },
  {
   "cell_type": "markdown",
   "id": "73adff69",
   "metadata": {},
   "source": [
    "### Features permutation"
   ]
  },
  {
   "cell_type": "code",
   "execution_count": 28,
   "id": "d1de583f",
   "metadata": {},
   "outputs": [
    {
     "data": {
      "text/html": [
       "<div>\n",
       "<style scoped>\n",
       "    .dataframe tbody tr th:only-of-type {\n",
       "        vertical-align: middle;\n",
       "    }\n",
       "\n",
       "    .dataframe tbody tr th {\n",
       "        vertical-align: top;\n",
       "    }\n",
       "\n",
       "    .dataframe thead th {\n",
       "        text-align: right;\n",
       "    }\n",
       "</style>\n",
       "<table border=\"1\" class=\"dataframe\">\n",
       "  <thead>\n",
       "    <tr style=\"text-align: right;\">\n",
       "      <th></th>\n",
       "      <th>feature</th>\n",
       "      <th>score decrease</th>\n",
       "    </tr>\n",
       "  </thead>\n",
       "  <tbody>\n",
       "    <tr>\n",
       "      <th>0</th>\n",
       "      <td>PC1</td>\n",
       "      <td>0.024595</td>\n",
       "    </tr>\n",
       "    <tr>\n",
       "      <th>5</th>\n",
       "      <td>PC6</td>\n",
       "      <td>0.009251</td>\n",
       "    </tr>\n",
       "    <tr>\n",
       "      <th>2</th>\n",
       "      <td>PC3</td>\n",
       "      <td>0.007909</td>\n",
       "    </tr>\n",
       "    <tr>\n",
       "      <th>3</th>\n",
       "      <td>PC4</td>\n",
       "      <td>0.007155</td>\n",
       "    </tr>\n",
       "    <tr>\n",
       "      <th>1</th>\n",
       "      <td>PC2</td>\n",
       "      <td>0.006428</td>\n",
       "    </tr>\n",
       "    <tr>\n",
       "      <th>7</th>\n",
       "      <td>PC8</td>\n",
       "      <td>0.005646</td>\n",
       "    </tr>\n",
       "    <tr>\n",
       "      <th>9</th>\n",
       "      <td>PC10</td>\n",
       "      <td>0.00408</td>\n",
       "    </tr>\n",
       "    <tr>\n",
       "      <th>12</th>\n",
       "      <td>PC13</td>\n",
       "      <td>0.002599</td>\n",
       "    </tr>\n",
       "    <tr>\n",
       "      <th>8</th>\n",
       "      <td>PC9</td>\n",
       "      <td>0.001845</td>\n",
       "    </tr>\n",
       "    <tr>\n",
       "      <th>4</th>\n",
       "      <td>PC5</td>\n",
       "      <td>0.001705</td>\n",
       "    </tr>\n",
       "    <tr>\n",
       "      <th>10</th>\n",
       "      <td>PC11</td>\n",
       "      <td>0.001509</td>\n",
       "    </tr>\n",
       "    <tr>\n",
       "      <th>6</th>\n",
       "      <td>PC7</td>\n",
       "      <td>-0.000475</td>\n",
       "    </tr>\n",
       "    <tr>\n",
       "      <th>11</th>\n",
       "      <td>PC12</td>\n",
       "      <td>-0.000559</td>\n",
       "    </tr>\n",
       "  </tbody>\n",
       "</table>\n",
       "</div>"
      ],
      "text/plain": [
       "   feature score decrease\n",
       "0      PC1       0.024595\n",
       "5      PC6       0.009251\n",
       "2      PC3       0.007909\n",
       "3      PC4       0.007155\n",
       "1      PC2       0.006428\n",
       "7      PC8       0.005646\n",
       "9     PC10        0.00408\n",
       "12    PC13       0.002599\n",
       "8      PC9       0.001845\n",
       "4      PC5       0.001705\n",
       "10    PC11       0.001509\n",
       "6      PC7      -0.000475\n",
       "11    PC12      -0.000559"
      ]
     },
     "execution_count": 28,
     "metadata": {},
     "output_type": "execute_result"
    }
   ],
   "source": [
    "# Fit model\n",
    "model_nb = GaussianNB().fit(X_proj_train, y_train) \n",
    "\n",
    "# Performs Permutation\n",
    "permutation_score = permutation_importance(model_nb, X_proj_train, y_train, n_repeats=10) \n",
    "\n",
    "# Unstack results showing the decrease in performance after shuffling features\n",
    "importance_df = pd.DataFrame(np.vstack((X_proj_train.columns,\n",
    "                                        permutation_score.importances_mean)).T) \n",
    "importance_df.columns=['feature','score decrease']\n",
    "\n",
    "# Show the important features\n",
    "importance_df.sort_values(by=\"score decrease\", ascending = False) "
   ]
  },
  {
   "cell_type": "markdown",
   "id": "e93c05df",
   "metadata": {},
   "source": [
    "## Model Scoring"
   ]
  },
  {
   "cell_type": "code",
   "execution_count": 37,
   "id": "3491ea60",
   "metadata": {},
   "outputs": [],
   "source": [
    "def perform(y_true, y_pred):\n",
    "    print(\"Precision : \", precision_score(y_true, y_pred))\n",
    "    print(\"Recall : \", recall_score(y_true, y_pred))\n",
    "    print(\"Accuracy : \", accuracy_score(y_true, y_pred))\n",
    "    print(\"F1 Score : \", f1_score(y_true, y_pred))\n",
    "    cm = confusion_matrix(y_true, y_pred)\n",
    "    print(\"\\n\", cm)\n",
    "    print(\"\\n\")\n",
    "    print(\"**\"*27 + \"\\n\" + \" \"* 16 + \"Classification Report\\n\" + \"**\"*27)\n",
    "    print(classification_report(y_true, y_pred))\n",
    "    print(\"**\"*27+\"\\n\")\n",
    "    \n",
    "    cm = ConfusionMatrixDisplay(confusion_matrix = cm)\n",
    "    cm.plot()"
   ]
  },
  {
   "cell_type": "markdown",
   "id": "632c1425",
   "metadata": {},
   "source": [
    "### Naive Bayse"
   ]
  },
  {
   "cell_type": "code",
   "execution_count": 38,
   "id": "cabce594",
   "metadata": {},
   "outputs": [
    {
     "name": "stdout",
     "output_type": "stream",
     "text": [
      "Precision :  0.7984886649874056\n",
      "Recall :  0.6921397379912664\n",
      "Accuracy :  0.6279461279461279\n",
      "F1 Score :  0.7415204678362574\n",
      "\n",
      " [[ 56  80]\n",
      " [141 317]]\n",
      "\n",
      "\n",
      "******************************************************\n",
      "                Classification Report\n",
      "******************************************************\n",
      "              precision    recall  f1-score   support\n",
      "\n",
      "         0.0       0.28      0.41      0.34       136\n",
      "         1.0       0.80      0.69      0.74       458\n",
      "\n",
      "    accuracy                           0.63       594\n",
      "   macro avg       0.54      0.55      0.54       594\n",
      "weighted avg       0.68      0.63      0.65       594\n",
      "\n",
      "******************************************************\n",
      "\n"
     ]
    },
    {
     "data": {
      "image/png": "[encoded data removed]",
      "text/plain": [
       "<Figure size 640x480 with 2 Axes>"
      ]
     },
     "metadata": {},
     "output_type": "display_data"
    }
   ],
   "source": [
    "y_pred_nb = model_nb.predict(X_proj_test)\n",
    "perform(y_test, y_pred_nb)"
   ]
  },
  {
   "cell_type": "markdown",
   "id": "3edf192d",
   "metadata": {},
   "source": [
    "### SVC "
   ]
  },
  {
   "cell_type": "code",
   "execution_count": 39,
   "id": "5aaff71f",
   "metadata": {
    "scrolled": true
   },
   "outputs": [
    {
     "name": "stdout",
     "output_type": "stream",
     "text": [
      "Precision :  0.8055555555555556\n",
      "Recall :  0.5698689956331878\n",
      "Accuracy :  0.5622895622895623\n",
      "F1 Score :  0.6675191815856778\n",
      "\n",
      " [[ 73  63]\n",
      " [197 261]]\n",
      "\n",
      "\n",
      "******************************************************\n",
      "                Classification Report\n",
      "******************************************************\n",
      "              precision    recall  f1-score   support\n",
      "\n",
      "         0.0       0.27      0.54      0.36       136\n",
      "         1.0       0.81      0.57      0.67       458\n",
      "\n",
      "    accuracy                           0.56       594\n",
      "   macro avg       0.54      0.55      0.51       594\n",
      "weighted avg       0.68      0.56      0.60       594\n",
      "\n",
      "******************************************************\n",
      "\n"
     ]
    },
    {
     "data": {
      "image/png": "[encoded data removed]",
      "text/plain": [
       "<Figure size 640x480 with 2 Axes>"
      ]
     },
     "metadata": {},
     "output_type": "display_data"
    }
   ],
   "source": [
    "model_svc = SVC()\n",
    "model_svc.fit(X_proj_train, y_train) \n",
    "\n",
    "# Performs Permutation\n",
    "permutation_score = permutation_importance(model_svc, X_proj_train, y_train, n_repeats=10) \n",
    "\n",
    "# Unstack results showing the decrease in performance after shuffling features\n",
    "importance_df = pd.DataFrame(np.vstack((X_proj_train.columns,\n",
    "                                        permutation_score.importances_mean)).T) \n",
    "importance_df.columns=['feature','score decrease']\n",
    "\n",
    "# Show the important features\n",
    "importance_df.sort_values(by=\"score decrease\", ascending = False) \n",
    "\n",
    "y_pred_svc = model_svc.predict(X_proj_test)\n",
    "perform(y_test, y_pred_svc)"
   ]
  },
  {
   "cell_type": "markdown",
   "id": "ae8d4ac5",
   "metadata": {},
   "source": [
    "### Random Forest"
   ]
  },
  {
   "cell_type": "code",
   "execution_count": 40,
   "id": "5421a0b9",
   "metadata": {},
   "outputs": [
    {
     "name": "stdout",
     "output_type": "stream",
     "text": [
      "Precision :  0.8251748251748252\n",
      "Recall :  0.5152838427947598\n",
      "Accuracy :  0.5420875420875421\n",
      "F1 Score :  0.6344086021505376\n",
      "\n",
      " [[ 86  50]\n",
      " [222 236]]\n",
      "\n",
      "\n",
      "******************************************************\n",
      "                Classification Report\n",
      "******************************************************\n",
      "              precision    recall  f1-score   support\n",
      "\n",
      "         0.0       0.28      0.63      0.39       136\n",
      "         1.0       0.83      0.52      0.63       458\n",
      "\n",
      "    accuracy                           0.54       594\n",
      "   macro avg       0.55      0.57      0.51       594\n",
      "weighted avg       0.70      0.54      0.58       594\n",
      "\n",
      "******************************************************\n",
      "\n"
     ]
    },
    {
     "data": {
      "image/png": "[encoded data removed]",
      "text/plain": [
       "<Figure size 640x480 with 2 Axes>"
      ]
     },
     "metadata": {},
     "output_type": "display_data"
    }
   ],
   "source": [
    "clf = RandomForestClassifier(max_depth=2, random_state=0)\n",
    "\n",
    "clf.fit(X_proj_train, y_train)\n",
    "\n",
    "# Performs Permutation\n",
    "permutation_score = permutation_importance(clf, X_proj_train, y_train, n_repeats=10) \n",
    "\n",
    "# Unstack results showing the decrease in performance after shuffling features\n",
    "importance_df = pd.DataFrame(np.vstack((X_proj_train.columns,\n",
    "                                        permutation_score.importances_mean)).T) \n",
    "importance_df.columns=['feature','score decrease']\n",
    "\n",
    "# Show the important features\n",
    "importance_df.sort_values(by=\"score decrease\", ascending = False) \n",
    "\n",
    "y_pred_clf = clf.predict(X_proj_test)\n",
    "\n",
    "perform(y_test, y_pred_clf)"
   ]
  },
  {
   "cell_type": "markdown",
   "id": "f37a681a",
   "metadata": {},
   "source": [
    "## Precision/Recall trade off "
   ]
  },
  {
   "cell_type": "code",
   "execution_count": 44,
   "id": "b28c060f",
   "metadata": {},
   "outputs": [
    {
     "name": "stdout",
     "output_type": "stream",
     "text": [
      "precision- [0.5        0.49972036 0.49944009 0.49887892 0.49929874]\n",
      "recall- [1.         0.99888206 0.99720514 0.99496926 0.99496926]\n",
      "threshold- [0.         0.01       0.02       0.02333333 0.025     ]\n"
     ]
    }
   ],
   "source": [
    "# To get the predict_proba for a model\n",
    "proba_dropout, proba_enrolled =cross_val_predict(RandomForestClassifier(),\n",
    "                                                X_proj_train,\n",
    "                                                y_train,\n",
    "                                                cv=5,\n",
    "                                                method='predict_proba').T\n",
    "\n",
    "# precision recall data\n",
    "precision, recall, threshold = precision_recall_curve(y_train, proba_dropout) \n",
    "\n",
    "print(f'precision- {precision[:5]}')\n",
    "print(f'recall- {recall[:5]}')\n",
    "print(f'threshold- {threshold[:5]}')"
   ]
  },
  {
   "cell_type": "code",
   "execution_count": 50,
   "id": "ec646306",
   "metadata": {},
   "outputs": [
    {
     "data": {
      "text/html": [
       "<div>\n",
       "<style scoped>\n",
       "    .dataframe tbody tr th:only-of-type {\n",
       "        vertical-align: middle;\n",
       "    }\n",
       "\n",
       "    .dataframe tbody tr th {\n",
       "        vertical-align: top;\n",
       "    }\n",
       "\n",
       "    .dataframe thead th {\n",
       "        text-align: right;\n",
       "    }\n",
       "</style>\n",
       "<table border=\"1\" class=\"dataframe\">\n",
       "  <thead>\n",
       "    <tr style=\"text-align: right;\">\n",
       "      <th></th>\n",
       "      <th>threshold</th>\n",
       "      <th>precision</th>\n",
       "      <th>recall</th>\n",
       "    </tr>\n",
       "  </thead>\n",
       "  <tbody>\n",
       "    <tr>\n",
       "      <th>0</th>\n",
       "      <td>0.000000</td>\n",
       "      <td>0.499720</td>\n",
       "      <td>0.998882</td>\n",
       "    </tr>\n",
       "    <tr>\n",
       "      <th>1</th>\n",
       "      <td>0.010000</td>\n",
       "      <td>0.499440</td>\n",
       "      <td>0.997205</td>\n",
       "    </tr>\n",
       "    <tr>\n",
       "      <th>2</th>\n",
       "      <td>0.020000</td>\n",
       "      <td>0.498879</td>\n",
       "      <td>0.994969</td>\n",
       "    </tr>\n",
       "    <tr>\n",
       "      <th>3</th>\n",
       "      <td>0.023333</td>\n",
       "      <td>0.499299</td>\n",
       "      <td>0.994969</td>\n",
       "    </tr>\n",
       "    <tr>\n",
       "      <th>4</th>\n",
       "      <td>0.025000</td>\n",
       "      <td>0.499158</td>\n",
       "      <td>0.994410</td>\n",
       "    </tr>\n",
       "    <tr>\n",
       "      <th>...</th>\n",
       "      <td>...</td>\n",
       "      <td>...</td>\n",
       "      <td>...</td>\n",
       "    </tr>\n",
       "    <tr>\n",
       "      <th>969</th>\n",
       "      <td>0.987143</td>\n",
       "      <td>0.024615</td>\n",
       "      <td>0.004472</td>\n",
       "    </tr>\n",
       "    <tr>\n",
       "      <th>970</th>\n",
       "      <td>0.990000</td>\n",
       "      <td>0.029240</td>\n",
       "      <td>0.002795</td>\n",
       "    </tr>\n",
       "    <tr>\n",
       "      <th>971</th>\n",
       "      <td>0.994000</td>\n",
       "      <td>0.029412</td>\n",
       "      <td>0.002795</td>\n",
       "    </tr>\n",
       "    <tr>\n",
       "      <th>972</th>\n",
       "      <td>0.996667</td>\n",
       "      <td>0.029762</td>\n",
       "      <td>0.002795</td>\n",
       "    </tr>\n",
       "    <tr>\n",
       "      <th>973</th>\n",
       "      <td>1.000000</td>\n",
       "      <td>1.000000</td>\n",
       "      <td>0.000000</td>\n",
       "    </tr>\n",
       "  </tbody>\n",
       "</table>\n",
       "<p>974 rows × 3 columns</p>\n",
       "</div>"
      ],
      "text/plain": [
       "     threshold  precision    recall\n",
       "0     0.000000   0.499720  0.998882\n",
       "1     0.010000   0.499440  0.997205\n",
       "2     0.020000   0.498879  0.994969\n",
       "3     0.023333   0.499299  0.994969\n",
       "4     0.025000   0.499158  0.994410\n",
       "..         ...        ...       ...\n",
       "969   0.987143   0.024615  0.004472\n",
       "970   0.990000   0.029240  0.002795\n",
       "971   0.994000   0.029412  0.002795\n",
       "972   0.996667   0.029762  0.002795\n",
       "973   1.000000   1.000000  0.000000\n",
       "\n",
       "[974 rows x 3 columns]"
      ]
     },
     "execution_count": 50,
     "metadata": {},
     "output_type": "execute_result"
    }
   ],
   "source": [
    "# To view the scores in a DF\n",
    "scores = pd.DataFrame({'threshold':threshold,\n",
    "                       'precision': precision[1:],\n",
    "                       'recall':recall[1:]}) # Store in a dataframe\n",
    "scores"
   ]
  },
  {
   "cell_type": "code",
   "execution_count": 51,
   "id": "c4ead8fc",
   "metadata": {},
   "outputs": [
    {
     "data": {
      "text/plain": [
       "Text(0.5, 0, 'recall')"
      ]
     },
     "execution_count": 51,
     "metadata": {},
     "output_type": "execute_result"
    },
    {
     "data": {
      "image/png": "[encoded data removed]",
      "text/plain": [
       "<Figure size 640x480 with 1 Axes>"
      ]
     },
     "metadata": {},
     "output_type": "display_data"
    }
   ],
   "source": [
    "# Plotting Recall vs Precision\n",
    "plt.plot(scores['recall'],scores['precision'])\n",
    "plt.ylabel('precision')\n",
    "plt.xlabel('recall')"
   ]
  }
 ],
 "metadata": {
  "kernelspec": {
   "display_name": "Python 3 (ipykernel)",
   "language": "python",
   "name": "python3"
  },
  "language_info": {
   "codemirror_mode": {
    "name": "ipython",
    "version": 3
   },
   "file_extension": ".py",
   "mimetype": "text/x-python",
   "name": "python",
   "nbconvert_exporter": "python",
   "pygments_lexer": "ipython3",
   "version": "3.10.6"
  },
  "toc": {
   "base_numbering": 1,
   "nav_menu": {},
   "number_sections": true,
   "sideBar": true,
   "skip_h1_title": false,
   "title_cell": "Table of Contents",
   "title_sidebar": "Contents",
   "toc_cell": false,
   "toc_position": {},
   "toc_section_display": true,
   "toc_window_display": false
  }
 },
 "nbformat": 4,
 "nbformat_minor": 5
}
